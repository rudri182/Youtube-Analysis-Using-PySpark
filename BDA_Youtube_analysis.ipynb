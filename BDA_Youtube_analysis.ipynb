{
  "nbformat": 4,
  "nbformat_minor": 0,
  "metadata": {
    "colab": {
      "name": "BDA_Youtube_analysis.ipynb",
      "provenance": [],
      "collapsed_sections": []
    },
    "kernelspec": {
      "name": "python3",
      "display_name": "Python 3"
    }
  },
  "cells": [
    {
      "cell_type": "markdown",
      "metadata": {
        "id": "ZrBzL1Ztgbs-"
      },
      "source": [
        "## Youtube Data Analysis Using Spark\n",
        "\n",
        "### Rudri Jani \n",
        "\n",
        "### Riya Shah"
      ]
    },
    {
      "cell_type": "markdown",
      "metadata": {
        "id": "_tg0qO4nyHGH"
      },
      "source": [
        "## Mount file"
      ]
    },
    {
      "cell_type": "code",
      "metadata": {
        "colab": {
          "base_uri": "https://localhost:8080/"
        },
        "id": "z-cnkiDMBZ4t",
        "outputId": "9ef10220-7691-4498-cf1f-e3efe1877dc4"
      },
      "source": [
        "from google.colab import drive\n",
        "drive.mount('/content/drive')"
      ],
      "execution_count": null,
      "outputs": [
        {
          "output_type": "stream",
          "text": [
            "Drive already mounted at /content/drive; to attempt to forcibly remount, call drive.mount(\"/content/drive\", force_remount=True).\n"
          ],
          "name": "stdout"
        }
      ]
    },
    {
      "cell_type": "code",
      "metadata": {
        "colab": {
          "base_uri": "https://localhost:8080/",
          "height": 36
        },
        "id": "ETphlMklDIaP",
        "outputId": "e877ce92-d6a8-4afa-aa49-960ecb386df1"
      },
      "source": [
        "path = \"/content/drive/My Drive/BDA_Project/Data_Youtube/\"\n",
        "path"
      ],
      "execution_count": null,
      "outputs": [
        {
          "output_type": "execute_result",
          "data": {
            "application/vnd.google.colaboratory.intrinsic+json": {
              "type": "string"
            },
            "text/plain": [
              "'/content/drive/My Drive/BDA_Project/Data_Youtube/'"
            ]
          },
          "metadata": {
            "tags": []
          },
          "execution_count": 2
        }
      ]
    },
    {
      "cell_type": "markdown",
      "metadata": {
        "id": "28vLvVz5y2wZ"
      },
      "source": [
        "## import Libraries"
      ]
    },
    {
      "cell_type": "code",
      "metadata": {
        "id": "B-_zokQTyinU"
      },
      "source": [
        "import numpy as np\n",
        "import pandas as pd\n",
        "import seaborn as sns\n",
        "import matplotlib.pyplot as plt"
      ],
      "execution_count": null,
      "outputs": []
    },
    {
      "cell_type": "markdown",
      "metadata": {
        "id": "F6VOM9F5yVWE"
      },
      "source": [
        "## Load Data "
      ]
    },
    {
      "cell_type": "code",
      "metadata": {
        "id": "2CzyIGEiFGj4"
      },
      "source": [
        "gb = pd.read_csv(path + \"/GBvideos.csv\")\n",
        "gb['country'] = 'Britain'\n",
        "\n",
        "ind = pd.read_csv(path + \"/INvideos.csv\")\n",
        "ind['country'] = 'India'\n",
        "\n",
        "us = pd.read_csv(path + \"/USvideos.csv\")\n",
        "us['country'] = 'US'\n",
        "\n",
        "ca = pd.read_csv(path + \"/CAvideos.csv\")\n",
        "ca['country'] = 'Canada'\n",
        "\n",
        "\n",
        "li = [ind, gb, us, ca]\n",
        "\n",
        "\n",
        "data = pd.concat(li, axis=0, ignore_index=True)"
      ],
      "execution_count": null,
      "outputs": []
    },
    {
      "cell_type": "markdown",
      "metadata": {
        "id": "MskHIekHzBoI"
      },
      "source": [
        "## EDA"
      ]
    },
    {
      "cell_type": "code",
      "metadata": {
        "colab": {
          "base_uri": "https://localhost:8080/",
          "height": 568
        },
        "id": "3LjEAgaLMC7p",
        "outputId": "89a7581e-f73c-4957-e7ce-99d81062f050"
      },
      "source": [
        "data.head()"
      ],
      "execution_count": null,
      "outputs": [
        {
          "output_type": "execute_result",
          "data": {
            "text/html": [
              "<div>\n",
              "<style scoped>\n",
              "    .dataframe tbody tr th:only-of-type {\n",
              "        vertical-align: middle;\n",
              "    }\n",
              "\n",
              "    .dataframe tbody tr th {\n",
              "        vertical-align: top;\n",
              "    }\n",
              "\n",
              "    .dataframe thead th {\n",
              "        text-align: right;\n",
              "    }\n",
              "</style>\n",
              "<table border=\"1\" class=\"dataframe\">\n",
              "  <thead>\n",
              "    <tr style=\"text-align: right;\">\n",
              "      <th></th>\n",
              "      <th>video_id</th>\n",
              "      <th>trending_date</th>\n",
              "      <th>title</th>\n",
              "      <th>channel_title</th>\n",
              "      <th>category_id</th>\n",
              "      <th>publish_time</th>\n",
              "      <th>tags</th>\n",
              "      <th>views</th>\n",
              "      <th>likes</th>\n",
              "      <th>dislikes</th>\n",
              "      <th>comment_count</th>\n",
              "      <th>thumbnail_link</th>\n",
              "      <th>comments_disabled</th>\n",
              "      <th>ratings_disabled</th>\n",
              "      <th>video_error_or_removed</th>\n",
              "      <th>description</th>\n",
              "      <th>country</th>\n",
              "    </tr>\n",
              "  </thead>\n",
              "  <tbody>\n",
              "    <tr>\n",
              "      <th>0</th>\n",
              "      <td>kzwfHumJyYc</td>\n",
              "      <td>17.14.11</td>\n",
              "      <td>Sharry Mann: Cute Munda ( Song Teaser) | Parmi...</td>\n",
              "      <td>Lokdhun Punjabi</td>\n",
              "      <td>1</td>\n",
              "      <td>2017-11-12T12:20:39.000Z</td>\n",
              "      <td>sharry mann|\"sharry mann new song\"|\"sharry man...</td>\n",
              "      <td>1096327</td>\n",
              "      <td>33966</td>\n",
              "      <td>798</td>\n",
              "      <td>882</td>\n",
              "      <td>https://i.ytimg.com/vi/kzwfHumJyYc/default.jpg</td>\n",
              "      <td>False</td>\n",
              "      <td>False</td>\n",
              "      <td>False</td>\n",
              "      <td>Presenting Sharry Mann latest Punjabi Song  Cu...</td>\n",
              "      <td>India</td>\n",
              "    </tr>\n",
              "    <tr>\n",
              "      <th>1</th>\n",
              "      <td>zUZ1z7FwLc8</td>\n",
              "      <td>17.14.11</td>\n",
              "      <td>पीरियड्स के समय, पेट पर पति करता ऐसा, देखकर दं...</td>\n",
              "      <td>HJ NEWS</td>\n",
              "      <td>25</td>\n",
              "      <td>2017-11-13T05:43:56.000Z</td>\n",
              "      <td>पीरियड्स के समय|\"पेट पर पति करता ऐसा\"|\"देखकर द...</td>\n",
              "      <td>590101</td>\n",
              "      <td>735</td>\n",
              "      <td>904</td>\n",
              "      <td>0</td>\n",
              "      <td>https://i.ytimg.com/vi/zUZ1z7FwLc8/default.jpg</td>\n",
              "      <td>True</td>\n",
              "      <td>False</td>\n",
              "      <td>False</td>\n",
              "      <td>पीरियड्स के समय, पेट पर पति करता ऐसा, देखकर दं...</td>\n",
              "      <td>India</td>\n",
              "    </tr>\n",
              "    <tr>\n",
              "      <th>2</th>\n",
              "      <td>10L1hZ9qa58</td>\n",
              "      <td>17.14.11</td>\n",
              "      <td>Stylish Star Allu Arjun @ ChaySam Wedding Rece...</td>\n",
              "      <td>TFPC</td>\n",
              "      <td>24</td>\n",
              "      <td>2017-11-12T15:48:08.000Z</td>\n",
              "      <td>Stylish Star Allu Arjun @ ChaySam Wedding Rece...</td>\n",
              "      <td>473988</td>\n",
              "      <td>2011</td>\n",
              "      <td>243</td>\n",
              "      <td>149</td>\n",
              "      <td>https://i.ytimg.com/vi/10L1hZ9qa58/default.jpg</td>\n",
              "      <td>False</td>\n",
              "      <td>False</td>\n",
              "      <td>False</td>\n",
              "      <td>Watch Stylish Star Allu Arjun @ ChaySam Weddin...</td>\n",
              "      <td>India</td>\n",
              "    </tr>\n",
              "    <tr>\n",
              "      <th>3</th>\n",
              "      <td>N1vE8iiEg64</td>\n",
              "      <td>17.14.11</td>\n",
              "      <td>Eruma Saani | Tamil vs English</td>\n",
              "      <td>Eruma Saani</td>\n",
              "      <td>23</td>\n",
              "      <td>2017-11-12T07:08:48.000Z</td>\n",
              "      <td>Eruma Saani|\"Tamil Comedy Videos\"|\"Films\"|\"Mov...</td>\n",
              "      <td>1242680</td>\n",
              "      <td>70353</td>\n",
              "      <td>1624</td>\n",
              "      <td>2684</td>\n",
              "      <td>https://i.ytimg.com/vi/N1vE8iiEg64/default.jpg</td>\n",
              "      <td>False</td>\n",
              "      <td>False</td>\n",
              "      <td>False</td>\n",
              "      <td>This video showcases the difference between pe...</td>\n",
              "      <td>India</td>\n",
              "    </tr>\n",
              "    <tr>\n",
              "      <th>4</th>\n",
              "      <td>kJzGH0PVQHQ</td>\n",
              "      <td>17.14.11</td>\n",
              "      <td>why Samantha became EMOTIONAL @ Samantha naga ...</td>\n",
              "      <td>Filmylooks</td>\n",
              "      <td>24</td>\n",
              "      <td>2017-11-13T01:14:16.000Z</td>\n",
              "      <td>Filmylooks|\"latest news\"|\"telugu movies\"|\"telu...</td>\n",
              "      <td>464015</td>\n",
              "      <td>492</td>\n",
              "      <td>293</td>\n",
              "      <td>66</td>\n",
              "      <td>https://i.ytimg.com/vi/kJzGH0PVQHQ/default.jpg</td>\n",
              "      <td>False</td>\n",
              "      <td>False</td>\n",
              "      <td>False</td>\n",
              "      <td>why Samantha became EMOTIONAL @ Samantha naga ...</td>\n",
              "      <td>India</td>\n",
              "    </tr>\n",
              "  </tbody>\n",
              "</table>\n",
              "</div>"
            ],
            "text/plain": [
              "      video_id  ... country\n",
              "0  kzwfHumJyYc  ...   India\n",
              "1  zUZ1z7FwLc8  ...   India\n",
              "2  10L1hZ9qa58  ...   India\n",
              "3  N1vE8iiEg64  ...   India\n",
              "4  kJzGH0PVQHQ  ...   India\n",
              "\n",
              "[5 rows x 17 columns]"
            ]
          },
          "metadata": {
            "tags": []
          },
          "execution_count": 5
        }
      ]
    },
    {
      "cell_type": "code",
      "metadata": {
        "id": "BYCKuuoNKFvN",
        "colab": {
          "base_uri": "https://localhost:8080/"
        },
        "outputId": "70dd1c57-bcda-487d-880e-4cf0062808d2"
      },
      "source": [
        "data.info()"
      ],
      "execution_count": null,
      "outputs": [
        {
          "output_type": "stream",
          "text": [
            "<class 'pandas.core.frame.DataFrame'>\n",
            "RangeIndex: 158098 entries, 0 to 158097\n",
            "Data columns (total 17 columns):\n",
            " #   Column                  Non-Null Count   Dtype \n",
            "---  ------                  --------------   ----- \n",
            " 0   video_id                158098 non-null  object\n",
            " 1   trending_date           158098 non-null  object\n",
            " 2   title                   158098 non-null  object\n",
            " 3   channel_title           158098 non-null  object\n",
            " 4   category_id             158098 non-null  int64 \n",
            " 5   publish_time            158098 non-null  object\n",
            " 6   tags                    158098 non-null  object\n",
            " 7   views                   158098 non-null  int64 \n",
            " 8   likes                   158098 non-null  int64 \n",
            " 9   dislikes                158098 non-null  int64 \n",
            " 10  comment_count           158098 non-null  int64 \n",
            " 11  thumbnail_link          158098 non-null  object\n",
            " 12  comments_disabled       158098 non-null  bool  \n",
            " 13  ratings_disabled        158098 non-null  bool  \n",
            " 14  video_error_or_removed  158098 non-null  bool  \n",
            " 15  description             155059 non-null  object\n",
            " 16  country                 158098 non-null  object\n",
            "dtypes: bool(3), int64(5), object(9)\n",
            "memory usage: 17.3+ MB\n"
          ],
          "name": "stdout"
        }
      ]
    },
    {
      "cell_type": "markdown",
      "metadata": {
        "id": "iKH1qAyPAd8A"
      },
      "source": [
        "#### Removing description column as it contains null values and it is no further needed"
      ]
    },
    {
      "cell_type": "code",
      "metadata": {
        "colab": {
          "base_uri": "https://localhost:8080/"
        },
        "id": "hWHs9ryZOsO4",
        "outputId": "0b759e02-f3fa-4440-a8b8-cc99f4ad994d"
      },
      "source": [
        "# removing description column\n",
        "data = data.drop('description', axis=1)\n",
        "data.info()"
      ],
      "execution_count": null,
      "outputs": [
        {
          "output_type": "stream",
          "text": [
            "<class 'pandas.core.frame.DataFrame'>\n",
            "RangeIndex: 158098 entries, 0 to 158097\n",
            "Data columns (total 16 columns):\n",
            " #   Column                  Non-Null Count   Dtype \n",
            "---  ------                  --------------   ----- \n",
            " 0   video_id                158098 non-null  object\n",
            " 1   trending_date           158098 non-null  object\n",
            " 2   title                   158098 non-null  object\n",
            " 3   channel_title           158098 non-null  object\n",
            " 4   category_id             158098 non-null  int64 \n",
            " 5   publish_time            158098 non-null  object\n",
            " 6   tags                    158098 non-null  object\n",
            " 7   views                   158098 non-null  int64 \n",
            " 8   likes                   158098 non-null  int64 \n",
            " 9   dislikes                158098 non-null  int64 \n",
            " 10  comment_count           158098 non-null  int64 \n",
            " 11  thumbnail_link          158098 non-null  object\n",
            " 12  comments_disabled       158098 non-null  bool  \n",
            " 13  ratings_disabled        158098 non-null  bool  \n",
            " 14  video_error_or_removed  158098 non-null  bool  \n",
            " 15  country                 158098 non-null  object\n",
            "dtypes: bool(3), int64(5), object(8)\n",
            "memory usage: 16.1+ MB\n"
          ],
          "name": "stdout"
        }
      ]
    },
    {
      "cell_type": "code",
      "metadata": {
        "colab": {
          "base_uri": "https://localhost:8080/",
          "height": 282
        },
        "id": "xqfOv7SlzGt4",
        "outputId": "a7842cd5-eea2-4af8-cfbe-4f79aae54b32"
      },
      "source": [
        "data.describe()"
      ],
      "execution_count": null,
      "outputs": [
        {
          "output_type": "execute_result",
          "data": {
            "text/html": [
              "<div>\n",
              "<style scoped>\n",
              "    .dataframe tbody tr th:only-of-type {\n",
              "        vertical-align: middle;\n",
              "    }\n",
              "\n",
              "    .dataframe tbody tr th {\n",
              "        vertical-align: top;\n",
              "    }\n",
              "\n",
              "    .dataframe thead th {\n",
              "        text-align: right;\n",
              "    }\n",
              "</style>\n",
              "<table border=\"1\" class=\"dataframe\">\n",
              "  <thead>\n",
              "    <tr style=\"text-align: right;\">\n",
              "      <th></th>\n",
              "      <th>category_id</th>\n",
              "      <th>views</th>\n",
              "      <th>likes</th>\n",
              "      <th>dislikes</th>\n",
              "      <th>comment_count</th>\n",
              "    </tr>\n",
              "  </thead>\n",
              "  <tbody>\n",
              "    <tr>\n",
              "      <th>count</th>\n",
              "      <td>158098.000000</td>\n",
              "      <td>1.580980e+05</td>\n",
              "      <td>1.580980e+05</td>\n",
              "      <td>1.580980e+05</td>\n",
              "      <td>1.580980e+05</td>\n",
              "    </tr>\n",
              "    <tr>\n",
              "      <th>mean</th>\n",
              "      <td>19.790250</td>\n",
              "      <td>2.613847e+06</td>\n",
              "      <td>6.898179e+04</td>\n",
              "      <td>3.748059e+03</td>\n",
              "      <td>7.345998e+03</td>\n",
              "    </tr>\n",
              "    <tr>\n",
              "      <th>std</th>\n",
              "      <td>7.405367</td>\n",
              "      <td>1.059344e+07</td>\n",
              "      <td>2.284840e+05</td>\n",
              "      <td>3.189644e+04</td>\n",
              "      <td>3.438558e+04</td>\n",
              "    </tr>\n",
              "    <tr>\n",
              "      <th>min</th>\n",
              "      <td>1.000000</td>\n",
              "      <td>5.490000e+02</td>\n",
              "      <td>0.000000e+00</td>\n",
              "      <td>0.000000e+00</td>\n",
              "      <td>0.000000e+00</td>\n",
              "    </tr>\n",
              "    <tr>\n",
              "      <th>25%</th>\n",
              "      <td>17.000000</td>\n",
              "      <td>1.690242e+05</td>\n",
              "      <td>2.440000e+03</td>\n",
              "      <td>1.390000e+02</td>\n",
              "      <td>3.260000e+02</td>\n",
              "    </tr>\n",
              "    <tr>\n",
              "      <th>50%</th>\n",
              "      <td>24.000000</td>\n",
              "      <td>4.956635e+05</td>\n",
              "      <td>1.116200e+04</td>\n",
              "      <td>4.630000e+02</td>\n",
              "      <td>1.270000e+03</td>\n",
              "    </tr>\n",
              "    <tr>\n",
              "      <th>75%</th>\n",
              "      <td>24.000000</td>\n",
              "      <td>1.530977e+06</td>\n",
              "      <td>4.407775e+04</td>\n",
              "      <td>1.617000e+03</td>\n",
              "      <td>4.419000e+03</td>\n",
              "    </tr>\n",
              "    <tr>\n",
              "      <th>max</th>\n",
              "      <td>43.000000</td>\n",
              "      <td>4.245389e+08</td>\n",
              "      <td>5.613827e+06</td>\n",
              "      <td>1.944971e+06</td>\n",
              "      <td>1.626501e+06</td>\n",
              "    </tr>\n",
              "  </tbody>\n",
              "</table>\n",
              "</div>"
            ],
            "text/plain": [
              "         category_id         views         likes      dislikes  comment_count\n",
              "count  158098.000000  1.580980e+05  1.580980e+05  1.580980e+05   1.580980e+05\n",
              "mean       19.790250  2.613847e+06  6.898179e+04  3.748059e+03   7.345998e+03\n",
              "std         7.405367  1.059344e+07  2.284840e+05  3.189644e+04   3.438558e+04\n",
              "min         1.000000  5.490000e+02  0.000000e+00  0.000000e+00   0.000000e+00\n",
              "25%        17.000000  1.690242e+05  2.440000e+03  1.390000e+02   3.260000e+02\n",
              "50%        24.000000  4.956635e+05  1.116200e+04  4.630000e+02   1.270000e+03\n",
              "75%        24.000000  1.530977e+06  4.407775e+04  1.617000e+03   4.419000e+03\n",
              "max        43.000000  4.245389e+08  5.613827e+06  1.944971e+06   1.626501e+06"
            ]
          },
          "metadata": {
            "tags": []
          },
          "execution_count": 8
        }
      ]
    },
    {
      "cell_type": "markdown",
      "metadata": {
        "id": "lUwpiJxR4Mxa"
      },
      "source": [
        "###Changing date format"
      ]
    },
    {
      "cell_type": "code",
      "metadata": {
        "id": "wWaWqu8uRBJ3"
      },
      "source": [
        "# changing format of the trending date\n",
        "data['trending_date']=pd.to_datetime(data.trending_date,format='%y.%d.%m')"
      ],
      "execution_count": null,
      "outputs": []
    },
    {
      "cell_type": "markdown",
      "metadata": {
        "id": "L__ytOTe_xHu"
      },
      "source": [
        "###Splitting trending date into year, month, day"
      ]
    },
    {
      "cell_type": "code",
      "metadata": {
        "id": "alPu0UiZbqmI"
      },
      "source": [
        "# splitting data into year, month, day\n",
        "data['tr_year'] = data['trending_date'].dt.year\n",
        "\n",
        "data['tr_month'] = data['trending_date'].dt.month\n",
        "\n",
        "data['tr_day'] = data['trending_date'].dt.day"
      ],
      "execution_count": null,
      "outputs": []
    },
    {
      "cell_type": "markdown",
      "metadata": {
        "id": "Ha-0EeJ24WFA"
      },
      "source": [
        "###Changing format of published date "
      ]
    },
    {
      "cell_type": "code",
      "metadata": {
        "id": "OA92jP5P9DV_"
      },
      "source": [
        "data[\"publish_time\"]=pd.to_datetime(data[\"publish_time\"])"
      ],
      "execution_count": null,
      "outputs": []
    },
    {
      "cell_type": "markdown",
      "metadata": {
        "id": "CGle8Cpt8Z4w"
      },
      "source": [
        "###splitting published time into year, month, day"
      ]
    },
    {
      "cell_type": "code",
      "metadata": {
        "id": "WIIRXSyV8ZD5"
      },
      "source": [
        "# splitting data into year, month, day\n",
        "data['pb_year'] = data['publish_time'].dt.year\n",
        "\n",
        "\n",
        "data['pb_month'] = data['publish_time'].dt.month\n",
        "\n",
        "\n",
        "data['pb_day'] = data['publish_time'].dt.day\n"
      ],
      "execution_count": null,
      "outputs": []
    },
    {
      "cell_type": "code",
      "metadata": {
        "colab": {
          "base_uri": "https://localhost:8080/",
          "height": 675
        },
        "id": "PB69_fw9bwKF",
        "outputId": "722d32a8-8c11-4bb4-da15-bae312e3cec8"
      },
      "source": [
        "corr = data.corr()\n",
        "# print(corr)\n",
        "fig, ax = plt.subplots(figsize=(10,10))\n",
        "sns.heatmap(corr, ax = ax, square=True, annot=True)\n",
        "# plt.show()"
      ],
      "execution_count": null,
      "outputs": [
        {
          "output_type": "execute_result",
          "data": {
            "text/plain": [
              "<matplotlib.axes._subplots.AxesSubplot at 0x7f114e1dd6d0>"
            ]
          },
          "metadata": {
            "tags": []
          },
          "execution_count": 13
        },
        {
          "output_type": "display_data",
          "data": {
            "image/png": "[encoded data removed]",
            "text/plain": [
              "<Figure size 720x720 with 2 Axes>"
            ]
          },
          "metadata": {
            "tags": [],
            "needs_background": "light"
          }
        }
      ]
    },
    {
      "cell_type": "markdown",
      "metadata": {
        "id": "d2u-NJlIDNfb"
      },
      "source": [
        "From the above correlation map, it can be seen that there is strong correlation between like and views and likes and comment_counts."
      ]
    },
    {
      "cell_type": "code",
      "metadata": {
        "id": "jm7ufaD-B-2f"
      },
      "source": [
        "# making trending year as an object data type as it has only two values\n",
        "data['tr_year'] = data['tr_year'].astype('object')\n"
      ],
      "execution_count": null,
      "outputs": []
    },
    {
      "cell_type": "markdown",
      "metadata": {
        "id": "_12b9akPNdhQ"
      },
      "source": [
        "##Data Visualization"
      ]
    },
    {
      "cell_type": "code",
      "metadata": {
        "colab": {
          "base_uri": "https://localhost:8080/",
          "height": 472
        },
        "id": "uKIblCJZ_M6v",
        "outputId": "4fb7e468-ff70-42ee-e839-b3ea2a62e7d3"
      },
      "source": [
        "# published year v/s views\n",
        "br_plot = sns.barplot(x=data[\"pb_year\"],y=data[\"views\"], hue=data['country'])\n",
        "br_plot = plt.gcf()\n",
        "br_plot.set_size_inches(15,7)\n",
        "plt.legend(loc='upper left')\n",
        "# plt.show()"
      ],
      "execution_count": null,
      "outputs": [
        {
          "output_type": "execute_result",
          "data": {
            "text/plain": [
              "<matplotlib.legend.Legend at 0x7f1145ef1390>"
            ]
          },
          "metadata": {
            "tags": []
          },
          "execution_count": 15
        },
        {
          "output_type": "display_data",
          "data": {
            "image/png": "[encoded data removed]",
            "text/plain": [
              "<Figure size 1080x504 with 1 Axes>"
            ]
          },
          "metadata": {
            "tags": [],
            "needs_background": "light"
          }
        }
      ]
    },
    {
      "cell_type": "markdown",
      "metadata": {
        "id": "ZR28FFhA5MwB"
      },
      "source": [
        "From the above graph, it can be seen that Britain has highest views in year 2017 and 2018."
      ]
    },
    {
      "cell_type": "code",
      "metadata": {
        "colab": {
          "base_uri": "https://localhost:8080/",
          "height": 472
        },
        "id": "DS5ehSaKFl_-",
        "outputId": "7db0c661-32a1-4445-e49d-eeae315161a7"
      },
      "source": [
        "# trending year v/s views\n",
        "sns.barplot(x=data[\"tr_year\"],y=data[\"views\"] ,hue=data['country'])\n",
        "br_plot = plt.gcf()\n",
        "br_plot.set_size_inches(7,7)\n",
        "plt.legend(loc='upper left')"
      ],
      "execution_count": null,
      "outputs": [
        {
          "output_type": "execute_result",
          "data": {
            "text/plain": [
              "<matplotlib.legend.Legend at 0x7f11460526d0>"
            ]
          },
          "metadata": {
            "tags": []
          },
          "execution_count": 16
        },
        {
          "output_type": "display_data",
          "data": {
            "image/png": "[encoded data removed]",
            "text/plain": [
              "<Figure size 504x504 with 1 Axes>"
            ]
          },
          "metadata": {
            "tags": [],
            "needs_background": "light"
          }
        }
      ]
    },
    {
      "cell_type": "markdown",
      "metadata": {
        "id": "EDQ7pRU95oMI"
      },
      "source": [
        "From the above graph, it is seen that trending videos are maximum from Britain and next is from US."
      ]
    },
    {
      "cell_type": "code",
      "metadata": {
        "colab": {
          "base_uri": "https://localhost:8080/",
          "height": 939
        },
        "id": "mBnSzYva9rZk",
        "outputId": "07cb2ddd-d7a2-48e3-9bc6-b8ecade82249"
      },
      "source": [
        "# published year v/s comment_count grouped by likes, dislikes, views\n",
        "\n",
        "sns.barplot(x=data[\"pb_year\"],y=data[\"comment_count\"], hue=data['country'])\n",
        "br_plot = plt.gcf()\n",
        "br_plot.set_size_inches(15,7)\n",
        "plt.legend(loc='upper left')\n",
        "data.groupby(\"pb_year\")[\"likes\",\"dislikes\",\"views\",\"comment_count\"].mean()"
      ],
      "execution_count": null,
      "outputs": [
        {
          "output_type": "stream",
          "text": [
            "/usr/local/lib/python3.7/dist-packages/ipykernel_launcher.py:7: FutureWarning: Indexing with multiple keys (implicitly converted to a tuple of keys) will be deprecated, use a list instead.\n",
            "  import sys\n"
          ],
          "name": "stderr"
        },
        {
          "output_type": "execute_result",
          "data": {
            "text/html": [
              "<div>\n",
              "<style scoped>\n",
              "    .dataframe tbody tr th:only-of-type {\n",
              "        vertical-align: middle;\n",
              "    }\n",
              "\n",
              "    .dataframe tbody tr th {\n",
              "        vertical-align: top;\n",
              "    }\n",
              "\n",
              "    .dataframe thead th {\n",
              "        text-align: right;\n",
              "    }\n",
              "</style>\n",
              "<table border=\"1\" class=\"dataframe\">\n",
              "  <thead>\n",
              "    <tr style=\"text-align: right;\">\n",
              "      <th></th>\n",
              "      <th>likes</th>\n",
              "      <th>dislikes</th>\n",
              "      <th>views</th>\n",
              "      <th>comment_count</th>\n",
              "    </tr>\n",
              "    <tr>\n",
              "      <th>pb_year</th>\n",
              "      <th></th>\n",
              "      <th></th>\n",
              "      <th></th>\n",
              "      <th></th>\n",
              "    </tr>\n",
              "  </thead>\n",
              "  <tbody>\n",
              "    <tr>\n",
              "      <th>2006</th>\n",
              "      <td>459.000000</td>\n",
              "      <td>152.000000</td>\n",
              "      <td>2.585060e+05</td>\n",
              "      <td>82.000000</td>\n",
              "    </tr>\n",
              "    <tr>\n",
              "      <th>2007</th>\n",
              "      <td>351.216216</td>\n",
              "      <td>11.000000</td>\n",
              "      <td>9.186759e+04</td>\n",
              "      <td>79.297297</td>\n",
              "    </tr>\n",
              "    <tr>\n",
              "      <th>2008</th>\n",
              "      <td>400.474576</td>\n",
              "      <td>15.084746</td>\n",
              "      <td>1.008189e+05</td>\n",
              "      <td>79.305085</td>\n",
              "    </tr>\n",
              "    <tr>\n",
              "      <th>2009</th>\n",
              "      <td>208.250000</td>\n",
              "      <td>3.321429</td>\n",
              "      <td>5.224696e+04</td>\n",
              "      <td>30.785714</td>\n",
              "    </tr>\n",
              "    <tr>\n",
              "      <th>2010</th>\n",
              "      <td>843.571429</td>\n",
              "      <td>64.428571</td>\n",
              "      <td>1.008761e+05</td>\n",
              "      <td>104.196429</td>\n",
              "    </tr>\n",
              "    <tr>\n",
              "      <th>2011</th>\n",
              "      <td>734.919643</td>\n",
              "      <td>504.687500</td>\n",
              "      <td>2.344654e+05</td>\n",
              "      <td>330.767857</td>\n",
              "    </tr>\n",
              "    <tr>\n",
              "      <th>2012</th>\n",
              "      <td>714.948718</td>\n",
              "      <td>15.820513</td>\n",
              "      <td>1.395713e+05</td>\n",
              "      <td>65.897436</td>\n",
              "    </tr>\n",
              "    <tr>\n",
              "      <th>2013</th>\n",
              "      <td>748.408696</td>\n",
              "      <td>34.478261</td>\n",
              "      <td>1.441847e+05</td>\n",
              "      <td>67.147826</td>\n",
              "    </tr>\n",
              "    <tr>\n",
              "      <th>2014</th>\n",
              "      <td>856.759615</td>\n",
              "      <td>34.288462</td>\n",
              "      <td>1.230548e+05</td>\n",
              "      <td>124.096154</td>\n",
              "    </tr>\n",
              "    <tr>\n",
              "      <th>2015</th>\n",
              "      <td>930.829630</td>\n",
              "      <td>42.533333</td>\n",
              "      <td>1.283197e+05</td>\n",
              "      <td>154.577778</td>\n",
              "    </tr>\n",
              "    <tr>\n",
              "      <th>2016</th>\n",
              "      <td>935.367925</td>\n",
              "      <td>35.405660</td>\n",
              "      <td>1.126028e+05</td>\n",
              "      <td>108.849057</td>\n",
              "    </tr>\n",
              "    <tr>\n",
              "      <th>2017</th>\n",
              "      <td>47705.940207</td>\n",
              "      <td>3499.163825</td>\n",
              "      <td>1.445128e+06</td>\n",
              "      <td>5814.650328</td>\n",
              "    </tr>\n",
              "    <tr>\n",
              "      <th>2018</th>\n",
              "      <td>76902.320178</td>\n",
              "      <td>3860.093560</td>\n",
              "      <td>3.040306e+06</td>\n",
              "      <td>7931.725460</td>\n",
              "    </tr>\n",
              "  </tbody>\n",
              "</table>\n",
              "</div>"
            ],
            "text/plain": [
              "                likes     dislikes         views  comment_count\n",
              "pb_year                                                        \n",
              "2006       459.000000   152.000000  2.585060e+05      82.000000\n",
              "2007       351.216216    11.000000  9.186759e+04      79.297297\n",
              "2008       400.474576    15.084746  1.008189e+05      79.305085\n",
              "2009       208.250000     3.321429  5.224696e+04      30.785714\n",
              "2010       843.571429    64.428571  1.008761e+05     104.196429\n",
              "2011       734.919643   504.687500  2.344654e+05     330.767857\n",
              "2012       714.948718    15.820513  1.395713e+05      65.897436\n",
              "2013       748.408696    34.478261  1.441847e+05      67.147826\n",
              "2014       856.759615    34.288462  1.230548e+05     124.096154\n",
              "2015       930.829630    42.533333  1.283197e+05     154.577778\n",
              "2016       935.367925    35.405660  1.126028e+05     108.849057\n",
              "2017     47705.940207  3499.163825  1.445128e+06    5814.650328\n",
              "2018     76902.320178  3860.093560  3.040306e+06    7931.725460"
            ]
          },
          "metadata": {
            "tags": []
          },
          "execution_count": 17
        },
        {
          "output_type": "display_data",
          "data": {
            "image/png": "[encoded data removed]",
            "text/plain": [
              "<Figure size 1080x504 with 1 Axes>"
            ]
          },
          "metadata": {
            "tags": [],
            "needs_background": "light"
          }
        }
      ]
    },
    {
      "cell_type": "markdown",
      "metadata": {
        "id": "fP3qXyfm6bkN"
      },
      "source": [
        "In the above graph, comment_count is maximum in Britain. In 2017, the similar trend can be seen in US and Canada. India has almost same trend in both years. "
      ]
    },
    {
      "cell_type": "code",
      "metadata": {
        "colab": {
          "base_uri": "https://localhost:8080/",
          "height": 460
        },
        "id": "0TdPyJ85FeGm",
        "outputId": "2dc986f9-0a0b-4187-9727-a888c4951950"
      },
      "source": [
        "# trending year v/s comment_count\n",
        "sns.barplot(x=data[\"tr_year\"],y=data[\"comment_count\"] ,hue=data['country'])\n",
        "br_plot = plt.gcf()\n",
        "br_plot.set_size_inches(7,7)\n",
        "plt.legend(loc='upper left')"
      ],
      "execution_count": null,
      "outputs": [
        {
          "output_type": "execute_result",
          "data": {
            "text/plain": [
              "<matplotlib.legend.Legend at 0x7f1143958bd0>"
            ]
          },
          "metadata": {
            "tags": []
          },
          "execution_count": 18
        },
        {
          "output_type": "display_data",
          "data": {
            "image/png": "[encoded data removed]",
            "text/plain": [
              "<Figure size 504x504 with 1 Axes>"
            ]
          },
          "metadata": {
            "tags": [],
            "needs_background": "light"
          }
        }
      ]
    },
    {
      "cell_type": "markdown",
      "metadata": {
        "id": "QhPooCXm67Wz"
      },
      "source": [
        "In the above graph, highest comments on trending vedio is from Britain. "
      ]
    },
    {
      "cell_type": "code",
      "metadata": {
        "colab": {
          "base_uri": "https://localhost:8080/",
          "height": 460
        },
        "id": "87C5TXm2DNeB",
        "outputId": "c8651ab8-a125-4c48-cd34-3ebd9c2a8550"
      },
      "source": [
        "# published year v/s likes\n",
        "sns.barplot(x=data[\"pb_year\"],y=data[\"likes\"] ,hue=data['country'])\n",
        "br_plot = plt.gcf()\n",
        "br_plot.set_size_inches(15,7)\n",
        "plt.legend(loc='upper left')"
      ],
      "execution_count": null,
      "outputs": [
        {
          "output_type": "execute_result",
          "data": {
            "text/plain": [
              "<matplotlib.legend.Legend at 0x7f1143b99f50>"
            ]
          },
          "metadata": {
            "tags": []
          },
          "execution_count": 19
        },
        {
          "output_type": "display_data",
          "data": {
            "image/png": "[encoded data removed]",
            "text/plain": [
              "<Figure size 1080x504 with 1 Axes>"
            ]
          },
          "metadata": {
            "tags": [],
            "needs_background": "light"
          }
        }
      ]
    },
    {
      "cell_type": "markdown",
      "metadata": {
        "id": "Mxni8QWx7YEq"
      },
      "source": [
        "In the above graph, Britain has maximum likes when the video is published."
      ]
    },
    {
      "cell_type": "code",
      "metadata": {
        "colab": {
          "base_uri": "https://localhost:8080/",
          "height": 460
        },
        "id": "EqMh18ClFKHp",
        "outputId": "935681e4-1140-4295-b0e0-d11a8e0cdbc3"
      },
      "source": [
        "# trending year v/s likes\n",
        "sns.barplot(x=data[\"tr_year\"],y=data[\"likes\"] ,hue=data['country'])\n",
        "br_plot = plt.gcf()\n",
        "br_plot.set_size_inches(7,7)\n",
        "plt.legend(loc='upper left')"
      ],
      "execution_count": null,
      "outputs": [
        {
          "output_type": "execute_result",
          "data": {
            "text/plain": [
              "<matplotlib.legend.Legend at 0x7f11436dca10>"
            ]
          },
          "metadata": {
            "tags": []
          },
          "execution_count": 20
        },
        {
          "output_type": "display_data",
          "data": {
            "image/png": "[encoded data removed]",
            "text/plain": [
              "<Figure size 504x504 with 1 Axes>"
            ]
          },
          "metadata": {
            "tags": [],
            "needs_background": "light"
          }
        }
      ]
    },
    {
      "cell_type": "markdown",
      "metadata": {
        "id": "3B6biXAt78tb"
      },
      "source": [
        "From the above graph, it is seen that Britain has maximum likes as it is trending more.\n"
      ]
    },
    {
      "cell_type": "code",
      "metadata": {
        "colab": {
          "base_uri": "https://localhost:8080/",
          "height": 460
        },
        "id": "ffSy41GDFA0l",
        "outputId": "e1d8fbc4-fa48-4700-8e03-d9820fa97dd8"
      },
      "source": [
        "# published year v/s dislikes\n",
        "sns.barplot(x=data[\"pb_year\"],y=data[\"dislikes\"] ,hue=data['country'])\n",
        "br_plot = plt.gcf()\n",
        "br_plot.set_size_inches(15,7)\n",
        "plt.legend(loc='upper left')"
      ],
      "execution_count": null,
      "outputs": [
        {
          "output_type": "execute_result",
          "data": {
            "text/plain": [
              "<matplotlib.legend.Legend at 0x7f1143617d10>"
            ]
          },
          "metadata": {
            "tags": []
          },
          "execution_count": 21
        },
        {
          "output_type": "display_data",
          "data": {
            "image/png": "[encoded data removed]",
            "text/plain": [
              "<Figure size 1080x504 with 1 Axes>"
            ]
          },
          "metadata": {
            "tags": [],
            "needs_background": "light"
          }
        }
      ]
    },
    {
      "cell_type": "markdown",
      "metadata": {
        "id": "dPsbbd_Q8suj"
      },
      "source": [
        "From the above graph, it can be seen that Britain has maximum dislikes."
      ]
    },
    {
      "cell_type": "code",
      "metadata": {
        "colab": {
          "base_uri": "https://localhost:8080/",
          "height": 460
        },
        "id": "F9ASdTYkGJjE",
        "outputId": "57139428-5267-4e4e-d8f9-281c9e0a21ff"
      },
      "source": [
        "# trending year v/s dislikes\n",
        "sns.barplot(x=data[\"tr_year\"],y=data[\"dislikes\"] ,hue=data['country'])\n",
        "br_plot = plt.gcf()\n",
        "br_plot.set_size_inches(7,7)\n",
        "plt.legend(loc='upper left')"
      ],
      "execution_count": null,
      "outputs": [
        {
          "output_type": "execute_result",
          "data": {
            "text/plain": [
              "<matplotlib.legend.Legend at 0x7f11435901d0>"
            ]
          },
          "metadata": {
            "tags": []
          },
          "execution_count": 22
        },
        {
          "output_type": "display_data",
          "data": {
            "image/png": "[encoded data removed]",
            "text/plain": [
              "<Figure size 504x504 with 1 Axes>"
            ]
          },
          "metadata": {
            "tags": [],
            "needs_background": "light"
          }
        }
      ]
    },
    {
      "cell_type": "markdown",
      "metadata": {
        "id": "qo6Jx8C39OBx"
      },
      "source": [
        "From the above graph, trending year is maximum dislikes in Britain. It can be also shown that in 2017 the trend in US and Canada is similar.   "
      ]
    },
    {
      "cell_type": "code",
      "metadata": {
        "colab": {
          "base_uri": "https://localhost:8080/",
          "height": 626
        },
        "id": "4P7c5dEAJxuL",
        "outputId": "266c87b7-58bc-42c2-e015-3809792daee2"
      },
      "source": [
        "# views v/s likes\n",
        "data1 = data[['views', 'likes']]\n",
        "corr = data1.corr()\n",
        "print(corr)\n",
        "\n",
        "sns1 = sns.scatterplot(x=data[\"views\"], y=data[\"likes\"], hue=data[\"country\"])\n",
        "plt.yticks(sns1.get_yticks(), sns1.get_yticks() * 1)\n",
        "# plt.xticks(sns1.get_xticks(), sns1.get_xticks() * 10)\n",
        "br_plot = plt.gcf()\n",
        "br_plot.set_size_inches(9,9)\n",
        "plt.legend(loc='upper right')"
      ],
      "execution_count": null,
      "outputs": [
        {
          "output_type": "stream",
          "text": [
            "          views     likes\n",
            "views  1.000000  0.790342\n",
            "likes  0.790342  1.000000\n"
          ],
          "name": "stdout"
        },
        {
          "output_type": "execute_result",
          "data": {
            "text/plain": [
              "<matplotlib.legend.Legend at 0x7f11430a4810>"
            ]
          },
          "metadata": {
            "tags": []
          },
          "execution_count": 23
        },
        {
          "output_type": "display_data",
          "data": {
            "image/png": "[encoded data removed]",
            "text/plain": [
              "<Figure size 648x648 with 1 Axes>"
            ]
          },
          "metadata": {
            "tags": [],
            "needs_background": "light"
          }
        }
      ]
    },
    {
      "cell_type": "markdown",
      "metadata": {
        "id": "FsAkhIOtKhC1"
      },
      "source": [
        "Observations:\n",
        "\n",
        "\n",
        "Initially the likes grows proportionally to veiws.\n",
        "\n",
        "However as the views surpases a limit/threshold, the likes become rarer.\n",
        "\n",
        "Most videos can cross a threshold of 0.2 in views and 1000000 likes.\n",
        "\n",
        "The curve follows the realtionship of:\n",
        "\n",
        "            likes=K*Sqrt(views)\n",
        "\n",
        "Where K can be in terms of millions/billions, depending on the reach of videos."
      ]
    },
    {
      "cell_type": "code",
      "metadata": {
        "colab": {
          "base_uri": "https://localhost:8080/",
          "height": 457
        },
        "id": "JvRfBJJmKLF8",
        "outputId": "cd7f46b6-3f45-4c6c-8884-759ec07b4221"
      },
      "source": [
        "K = 100000\n",
        "x = np.arange(K)\n",
        "y = K * np.sqrt(x)\n",
        "plt.figure(figsize=(7,7))\n",
        "plt.plot(x,y)"
      ],
      "execution_count": null,
      "outputs": [
        {
          "output_type": "execute_result",
          "data": {
            "text/plain": [
              "[<matplotlib.lines.Line2D at 0x7f11438d7d10>]"
            ]
          },
          "metadata": {
            "tags": []
          },
          "execution_count": 24
        },
        {
          "output_type": "display_data",
          "data": {
            "image/png": "[encoded data removed]",
            "text/plain": [
              "<Figure size 504x504 with 1 Axes>"
            ]
          },
          "metadata": {
            "tags": [],
            "needs_background": "light"
          }
        }
      ]
    },
    {
      "cell_type": "markdown",
      "metadata": {
        "id": "oCeAS3Z8zcsf"
      },
      "source": [
        "## Setting Environment of Spark"
      ]
    },
    {
      "cell_type": "code",
      "metadata": {
        "id": "fok2HXshL-Nz",
        "colab": {
          "base_uri": "https://localhost:8080/"
        },
        "outputId": "c59bab87-b647-4795-f326-11b8d6bb6d8b"
      },
      "source": [
        "pip install pyspark"
      ],
      "execution_count": null,
      "outputs": [
        {
          "output_type": "stream",
          "text": [
            "Requirement already satisfied: pyspark in /usr/local/lib/python3.7/dist-packages (3.1.1)\n",
            "Requirement already satisfied: py4j==0.10.9 in /usr/local/lib/python3.7/dist-packages (from pyspark) (0.10.9)\n"
          ],
          "name": "stdout"
        }
      ]
    },
    {
      "cell_type": "code",
      "metadata": {
        "id": "AzIKCcRgMR37",
        "colab": {
          "base_uri": "https://localhost:8080/"
        },
        "outputId": "7e89de2d-59c0-41e6-b2f0-fdf479e627fe"
      },
      "source": [
        "pip install findspark"
      ],
      "execution_count": null,
      "outputs": [
        {
          "output_type": "stream",
          "text": [
            "Requirement already satisfied: findspark in /usr/local/lib/python3.7/dist-packages (1.4.2)\n"
          ],
          "name": "stdout"
        }
      ]
    },
    {
      "cell_type": "code",
      "metadata": {
        "id": "QqRl9y8UNTsl"
      },
      "source": [
        "# install Java8\n",
        "!apt-get install openjdk-8-jdk-headless -qq > /dev/null"
      ],
      "execution_count": null,
      "outputs": []
    },
    {
      "cell_type": "code",
      "metadata": {
        "id": "NmKPpXcdNYCp"
      },
      "source": [
        "# download spark3.0.0\n",
        "!wget -q https://downloads.apache.org/spark/spark-3.1.1/spark-3.1.1-bin-hadoop2.7.tgz"
      ],
      "execution_count": null,
      "outputs": []
    },
    {
      "cell_type": "code",
      "metadata": {
        "id": "zvB20yJoToiA",
        "colab": {
          "base_uri": "https://localhost:8080/"
        },
        "outputId": "f9d202f8-c375-4374-d28b-9fa48eb644a5"
      },
      "source": [
        "!ls"
      ],
      "execution_count": null,
      "outputs": [
        {
          "output_type": "stream",
          "text": [
            "drive  sample_data  spark-3.1.1-bin-hadoop2.7.tgz\n"
          ],
          "name": "stdout"
        }
      ]
    },
    {
      "cell_type": "code",
      "metadata": {
        "id": "pSy45FbENTpi"
      },
      "source": [
        "# unzip it\n",
        "!tar xf spark-3.1.1-bin-hadoop2.7.tgz"
      ],
      "execution_count": null,
      "outputs": []
    },
    {
      "cell_type": "code",
      "metadata": {
        "id": "3AkkMB1yNThB"
      },
      "source": [
        "#install findspark \n",
        "!pip install -q findspark"
      ],
      "execution_count": null,
      "outputs": []
    },
    {
      "cell_type": "code",
      "metadata": {
        "id": "dP71rPk1NTc-"
      },
      "source": [
        "import os\n",
        "os.environ[\"JAVA_HOME\"] = \"/usr/lib/jvm/java-8-openjdk-amd64\"\n",
        "os.environ[\"SPARK_HOME\"] = \"/content/spark-3.1.1-bin-hadoop2.7\""
      ],
      "execution_count": null,
      "outputs": []
    },
    {
      "cell_type": "code",
      "metadata": {
        "id": "wC6iJoeeNTaf"
      },
      "source": [
        "import findspark\n",
        "findspark.init()"
      ],
      "execution_count": null,
      "outputs": []
    },
    {
      "cell_type": "code",
      "metadata": {
        "id": "8ONYD3eEWvA2",
        "colab": {
          "base_uri": "https://localhost:8080/",
          "height": 36
        },
        "outputId": "71a558d8-a2fc-412b-c6bd-d54f1ee3b445"
      },
      "source": [
        "findspark.find()"
      ],
      "execution_count": null,
      "outputs": [
        {
          "output_type": "execute_result",
          "data": {
            "application/vnd.google.colaboratory.intrinsic+json": {
              "type": "string"
            },
            "text/plain": [
              "'/content/spark-3.1.1-bin-hadoop2.7'"
            ]
          },
          "metadata": {
            "tags": []
          },
          "execution_count": 35
        }
      ]
    },
    {
      "cell_type": "code",
      "metadata": {
        "id": "p2N1ialLfTwL"
      },
      "source": [
        "# initializing spark env and configuration\n",
        "\n",
        "from pyspark import SparkContext, SparkConf\n",
        "from pyspark.sql import *\n",
        "\n",
        "# create the session\n",
        "conf = SparkConf().set(\"spark.ui.port\", \"4050\")\n",
        "\n",
        "# create the context\n",
        "sc = SparkContext.getOrCreate(conf=conf)\n",
        "#sc = pyspark.SparkContext(conf=conf)\n",
        "spark = SparkSession.builder.master('local[*]').getOrCreate()"
      ],
      "execution_count": null,
      "outputs": []
    },
    {
      "cell_type": "code",
      "metadata": {
        "id": "cE1m0VFIfaOh",
        "colab": {
          "base_uri": "https://localhost:8080/",
          "height": 218
        },
        "outputId": "7d24a395-dfc5-4903-ea1c-0334ea4c8537"
      },
      "source": [
        "spark"
      ],
      "execution_count": null,
      "outputs": [
        {
          "output_type": "execute_result",
          "data": {
            "text/html": [
              "\n",
              "            <div>\n",
              "                <p><b>SparkSession - in-memory</b></p>\n",
              "                \n",
              "        <div>\n",
              "            <p><b>SparkContext</b></p>\n",
              "\n",
              "            <p><a href=\"http://346bcaee9847:4050\">Spark UI</a></p>\n",
              "\n",
              "            <dl>\n",
              "              <dt>Version</dt>\n",
              "                <dd><code>v3.1.1</code></dd>\n",
              "              <dt>Master</dt>\n",
              "                <dd><code>local[*]</code></dd>\n",
              "              <dt>AppName</dt>\n",
              "                <dd><code>pyspark-shell</code></dd>\n",
              "            </dl>\n",
              "        </div>\n",
              "        \n",
              "            </div>\n",
              "        "
            ],
            "text/plain": [
              "<pyspark.sql.session.SparkSession at 0x7f11417c0890>"
            ]
          },
          "metadata": {
            "tags": []
          },
          "execution_count": 37
        }
      ]
    },
    {
      "cell_type": "code",
      "metadata": {
        "id": "U22Fdz6vfvQE",
        "colab": {
          "base_uri": "https://localhost:8080/"
        },
        "outputId": "2125481e-d207-4a80-aeaa-e5a97f9a188b"
      },
      "source": [
        "!wget https://bin.equinox.io/c/4VmDzA7iaHb/ngrok-stable-linux-amd64.zip\n",
        "!unzip ngrok-stable-linux-amd64.zip\n",
        "get_ipython().system_raw('./ngrok http 4050 &')"
      ],
      "execution_count": null,
      "outputs": [
        {
          "output_type": "stream",
          "text": [
            "--2021-04-14 13:09:57--  https://bin.equinox.io/c/4VmDzA7iaHb/ngrok-stable-linux-amd64.zip\n",
            "Resolving bin.equinox.io (bin.equinox.io)... 54.226.184.31, 34.205.198.58, 3.229.173.44, ...\n",
            "Connecting to bin.equinox.io (bin.equinox.io)|54.226.184.31|:443... connected.\n",
            "HTTP request sent, awaiting response... 200 OK\n",
            "Length: 14746350 (14M) [application/octet-stream]\n",
            "Saving to: ‘ngrok-stable-linux-amd64.zip’\n",
            "\n",
            "ngrok-stable-linux- 100%[===================>]  14.06M  50.5MB/s    in 0.3s    \n",
            "\n",
            "2021-04-14 13:09:58 (50.5 MB/s) - ‘ngrok-stable-linux-amd64.zip’ saved [14746350/14746350]\n",
            "\n",
            "Archive:  ngrok-stable-linux-amd64.zip\n",
            "  inflating: ngrok                   \n"
          ],
          "name": "stdout"
        }
      ]
    },
    {
      "cell_type": "code",
      "metadata": {
        "id": "HDaZSihuf7Co",
        "colab": {
          "base_uri": "https://localhost:8080/"
        },
        "outputId": "f2010f1f-58b8-4f82-b0e5-e4d516073ae2"
      },
      "source": [
        "!curl -s http://localhost:4040/api/tunnels"
      ],
      "execution_count": null,
      "outputs": [
        {
          "output_type": "stream",
          "text": [
            "{\"tunnels\":[],\"uri\":\"/api/tunnels\"}\n"
          ],
          "name": "stdout"
        }
      ]
    },
    {
      "cell_type": "markdown",
      "metadata": {
        "id": "W8jZ8JWZ0FQW"
      },
      "source": [
        "##Spark Operations "
      ]
    },
    {
      "cell_type": "markdown",
      "metadata": {
        "id": "rcQxHgpmExRI"
      },
      "source": [
        "###creating spark dataframe from pandas dataframe"
      ]
    },
    {
      "cell_type": "code",
      "metadata": {
        "id": "8aZERzHlaKMp",
        "colab": {
          "base_uri": "https://localhost:8080/"
        },
        "outputId": "7ee8e6ed-5f8f-4460-d555-4a36a886acbd"
      },
      "source": [
        "# converting pandas dataframe into spark dataframe\n",
        "df = spark.createDataFrame(data)\n",
        "df.printSchema()"
      ],
      "execution_count": null,
      "outputs": [
        {
          "output_type": "stream",
          "text": [
            "root\n",
            " |-- video_id: string (nullable = true)\n",
            " |-- trending_date: timestamp (nullable = true)\n",
            " |-- title: string (nullable = true)\n",
            " |-- channel_title: string (nullable = true)\n",
            " |-- category_id: long (nullable = true)\n",
            " |-- publish_time: timestamp (nullable = true)\n",
            " |-- tags: string (nullable = true)\n",
            " |-- views: long (nullable = true)\n",
            " |-- likes: long (nullable = true)\n",
            " |-- dislikes: long (nullable = true)\n",
            " |-- comment_count: long (nullable = true)\n",
            " |-- thumbnail_link: string (nullable = true)\n",
            " |-- comments_disabled: boolean (nullable = true)\n",
            " |-- ratings_disabled: boolean (nullable = true)\n",
            " |-- video_error_or_removed: boolean (nullable = true)\n",
            " |-- country: string (nullable = true)\n",
            " |-- tr_year: long (nullable = true)\n",
            " |-- tr_month: long (nullable = true)\n",
            " |-- tr_day: long (nullable = true)\n",
            " |-- pb_year: long (nullable = true)\n",
            " |-- pb_month: long (nullable = true)\n",
            " |-- pb_day: long (nullable = true)\n",
            "\n"
          ],
          "name": "stdout"
        }
      ]
    },
    {
      "cell_type": "code",
      "metadata": {
        "id": "FLoM0AwjaKHA",
        "colab": {
          "base_uri": "https://localhost:8080/"
        },
        "outputId": "db35834b-af97-436d-dd88-918acdda14f1"
      },
      "source": [
        "df.show(5)"
      ],
      "execution_count": null,
      "outputs": [
        {
          "output_type": "stream",
          "text": [
            "+-----------+-------------------+--------------------+---------------+-----------+-------------------+--------------------+-------+-----+--------+-------------+--------------------+-----------------+----------------+----------------------+-------+-------+--------+------+-------+--------+------+\n",
            "|   video_id|      trending_date|               title|  channel_title|category_id|       publish_time|                tags|  views|likes|dislikes|comment_count|      thumbnail_link|comments_disabled|ratings_disabled|video_error_or_removed|country|tr_year|tr_month|tr_day|pb_year|pb_month|pb_day|\n",
            "+-----------+-------------------+--------------------+---------------+-----------+-------------------+--------------------+-------+-----+--------+-------------+--------------------+-----------------+----------------+----------------------+-------+-------+--------+------+-------+--------+------+\n",
            "|kzwfHumJyYc|2017-11-14 00:00:00|Sharry Mann: Cute...|Lokdhun Punjabi|          1|2017-11-12 12:20:39|sharry mann|\"shar...|1096327|33966|     798|          882|https://i.ytimg.c...|            false|           false|                 false|  India|   2017|      11|    14|   2017|      11|    12|\n",
            "|zUZ1z7FwLc8|2017-11-14 00:00:00|पीरियड्स के समय, ...|        HJ NEWS|         25|2017-11-13 05:43:56|पीरियड्स के समय|\"...| 590101|  735|     904|            0|https://i.ytimg.c...|             true|           false|                 false|  India|   2017|      11|    14|   2017|      11|    13|\n",
            "|10L1hZ9qa58|2017-11-14 00:00:00|Stylish Star Allu...|           TFPC|         24|2017-11-12 15:48:08|Stylish Star Allu...| 473988| 2011|     243|          149|https://i.ytimg.c...|            false|           false|                 false|  India|   2017|      11|    14|   2017|      11|    12|\n",
            "|N1vE8iiEg64|2017-11-14 00:00:00|Eruma Saani | Tam...|    Eruma Saani|         23|2017-11-12 07:08:48|Eruma Saani|\"Tami...|1242680|70353|    1624|         2684|https://i.ytimg.c...|            false|           false|                 false|  India|   2017|      11|    14|   2017|      11|    12|\n",
            "|kJzGH0PVQHQ|2017-11-14 00:00:00|why Samantha beca...|     Filmylooks|         24|2017-11-13 01:14:16|Filmylooks|\"lates...| 464015|  492|     293|           66|https://i.ytimg.c...|            false|           false|                 false|  India|   2017|      11|    14|   2017|      11|    13|\n",
            "+-----------+-------------------+--------------------+---------------+-----------+-------------------+--------------------+-------+-----+--------+-------------+--------------------+-----------------+----------------+----------------------+-------+-------+--------+------+-------+--------+------+\n",
            "only showing top 5 rows\n",
            "\n"
          ],
          "name": "stdout"
        }
      ]
    },
    {
      "cell_type": "markdown",
      "metadata": {
        "id": "Mjv7WB2AFf3z"
      },
      "source": [
        "###some pyspark SQL functions"
      ]
    },
    {
      "cell_type": "code",
      "metadata": {
        "id": "12Ccvre9gaH5",
        "colab": {
          "base_uri": "https://localhost:8080/"
        },
        "outputId": "2f9da9c0-bf56-443a-ad25-02760e3270e9"
      },
      "source": [
        "# count distinct channels\n",
        "import pyspark.sql.functions\n",
        "from pyspark.sql.functions import count, col, countDistinct\n",
        "\n",
        "df.agg(pyspark.sql.functions.countDistinct(\"channel_title\")).show()"
      ],
      "execution_count": null,
      "outputs": [
        {
          "output_type": "stream",
          "text": [
            "+--------------------+\n",
            "|count(channel_title)|\n",
            "+--------------------+\n",
            "|                8080|\n",
            "+--------------------+\n",
            "\n"
          ],
          "name": "stdout"
        }
      ]
    },
    {
      "cell_type": "code",
      "metadata": {
        "id": "_c62xnKChv90",
        "colab": {
          "base_uri": "https://localhost:8080/"
        },
        "outputId": "0c9e26f0-cd78-4166-b067-2f4b1117cb5e"
      },
      "source": [
        "# total number of video_id\n",
        "df.agg(pyspark.sql.functions.countDistinct(\"video_id\")).show()"
      ],
      "execution_count": null,
      "outputs": [
        {
          "output_type": "stream",
          "text": [
            "+---------------+\n",
            "|count(video_id)|\n",
            "+---------------+\n",
            "|          45154|\n",
            "+---------------+\n",
            "\n"
          ],
          "name": "stdout"
        }
      ]
    },
    {
      "cell_type": "code",
      "metadata": {
        "id": "O16_3KD2fBi5",
        "colab": {
          "base_uri": "https://localhost:8080/"
        },
        "outputId": "eaa4cf89-b281-4fc2-fd72-af5b2b0e6c3a"
      },
      "source": [
        "# counting video_id according to channel_title in descending order\n",
        "\n",
        "df.groupBy('channel_title', 'video_id').count().sort('count', ascending=False).show(5)"
      ],
      "execution_count": null,
      "outputs": [
        {
          "output_type": "stream",
          "text": [
            "+--------------------+-----------+-----+\n",
            "|       channel_title|   video_id|count|\n",
            "+--------------------+-----------+-----+\n",
            "|Marvel Entertainment|UUkn-enk2RU|   74|\n",
            "|   SamSmithWorldVEVO|8h--kFui1JA|   70|\n",
            "|        Disney•Pixar|i5qOzqD9Rms|   70|\n",
            "| ChildishGambinoVEVO|VYOjWnS4cMY|   69|\n",
            "|          Ed Sheeran|iWZmdoY1aTE|   67|\n",
            "+--------------------+-----------+-----+\n",
            "only showing top 5 rows\n",
            "\n"
          ],
          "name": "stdout"
        }
      ]
    },
    {
      "cell_type": "code",
      "metadata": {
        "id": "ZoK1nrXZaKBc",
        "colab": {
          "base_uri": "https://localhost:8080/"
        },
        "outputId": "9fed95ad-7d74-4692-b48d-05db57f22074"
      },
      "source": [
        "df.select(\"channel_title\",\"video_id\",\"likes\",\"dislikes\", \"country\").sort('likes', ascending=False).show(5)"
      ],
      "execution_count": null,
      "outputs": [
        {
          "output_type": "stream",
          "text": [
            "+-------------+-----------+-------+--------+-------+\n",
            "|channel_title|   video_id|  likes|dislikes|country|\n",
            "+-------------+-----------+-------+--------+-------+\n",
            "|      ibighit|7C2z4GqqS5E|5613827|  206892|Britain|\n",
            "|      ibighit|7C2z4GqqS5E|5613827|  206892|     US|\n",
            "|      ibighit|7C2z4GqqS5E|5595203|  205565|Britain|\n",
            "|      ibighit|7C2z4GqqS5E|5595203|  205565|     US|\n",
            "|      ibighit|7C2z4GqqS5E|5530568|  200995|Britain|\n",
            "+-------------+-----------+-------+--------+-------+\n",
            "only showing top 5 rows\n",
            "\n"
          ],
          "name": "stdout"
        }
      ]
    },
    {
      "cell_type": "markdown",
      "metadata": {
        "id": "Wb2wQjOi05Sd"
      },
      "source": [
        "## Spark Queires"
      ]
    },
    {
      "cell_type": "markdown",
      "metadata": {
        "id": "ORF_1MgRG-hF"
      },
      "source": [
        "###importing libraries for spark SQL"
      ]
    },
    {
      "cell_type": "code",
      "metadata": {
        "id": "8kU8tH_i5NdM"
      },
      "source": [
        "from pyspark.sql import SparkSession\n",
        "from pyspark.sql.types import *"
      ],
      "execution_count": null,
      "outputs": []
    },
    {
      "cell_type": "code",
      "metadata": {
        "id": "P4mJMk-B7R4B"
      },
      "source": [
        "# creating the temporary table view to query\n",
        "df.createOrReplaceTempView(\"youtube\")"
      ],
      "execution_count": null,
      "outputs": []
    },
    {
      "cell_type": "markdown",
      "metadata": {
        "id": "gB7tJPyp1Rcm"
      },
      "source": [
        "####Find out what are the top video id with the maximum number of viewes according to date in desc and asc order. \n",
        "\n"
      ]
    },
    {
      "cell_type": "code",
      "metadata": {
        "id": "S4n1O-Aa5NXW",
        "colab": {
          "base_uri": "https://localhost:8080/"
        },
        "outputId": "1533fb4c-06bf-477e-8649-ffb0dac1ed9f"
      },
      "source": [
        " df2 = spark.sql('''select title,video_id, channel_title, views,trending_date, country from youtube group by  title, trending_date, video_id, channel_title, views, country order by views DESC''')\n",
        "df2.show()\n",
        "\n",
        "df2 = spark.sql('''select title,video_id, channel_title, views,trending_date, country from youtube group by  title, trending_date, video_id, channel_title, views, country order by views ''')\n",
        "df2.show()"
      ],
      "execution_count": null,
      "outputs": [
        {
          "output_type": "stream",
          "text": [
            "+--------------------+-----------+-------------+---------+-------------------+-------+\n",
            "|               title|   video_id|channel_title|    views|      trending_date|country|\n",
            "+--------------------+-----------+-------------+---------+-------------------+-------+\n",
            "|Nicky Jam x J. Ba...|_I_D_8Z4sJE|   NickyJamTV|424538912|2018-04-07 00:00:00|Britain|\n",
            "|Nicky Jam x J. Ba...|_I_D_8Z4sJE|   NickyJamTV|413586699|2018-04-06 00:00:00|Britain|\n",
            "|Nicky Jam x J. Ba...|_I_D_8Z4sJE|   NickyJamTV|402650804|2018-04-05 00:00:00|Britain|\n",
            "|Nicky Jam x J. Ba...|_I_D_8Z4sJE|   NickyJamTV|392036878|2018-04-04 00:00:00|Britain|\n",
            "|Nicky Jam x J. Ba...|_I_D_8Z4sJE|   NickyJamTV|382401497|2018-04-03 00:00:00|Britain|\n",
            "|Nicky Jam x J. Ba...|_I_D_8Z4sJE|   NickyJamTV|372399338|2018-04-02 00:00:00|Britain|\n",
            "|Nicky Jam x J. Ba...|_I_D_8Z4sJE|   NickyJamTV|362111555|2018-04-01 00:00:00|Britain|\n",
            "|Nicky Jam x J. Ba...|_I_D_8Z4sJE|   NickyJamTV|349987176|2018-03-31 00:00:00|Britain|\n",
            "|Nicky Jam x J. Ba...|_I_D_8Z4sJE|   NickyJamTV|339629489|2018-03-30 00:00:00|Britain|\n",
            "|Te Bote Remix - C...|9jI-z9QN6g8|Flow La Movie|337621571|2018-05-18 00:00:00|Britain|\n",
            "|Bad Bunny - Amorf...|kLpH1nSLJSs|    Bad Bunny|328860380|2018-03-23 00:00:00|Britain|\n",
            "|Te Bote Remix - C...|9jI-z9QN6g8|Flow La Movie|328024035|2018-05-17 00:00:00|Britain|\n",
            "|Nicky Jam x J. Ba...|_I_D_8Z4sJE|   NickyJamTV|326890258|2018-03-29 00:00:00|Britain|\n",
            "|Bad Bunny - Amorf...|kLpH1nSLJSs|    Bad Bunny|322211201|2018-03-22 00:00:00|Britain|\n",
            "|Bad Bunny - Amorf...|kLpH1nSLJSs|    Bad Bunny|315860445|2018-03-21 00:00:00|Britain|\n",
            "|Nicky Jam x J. Ba...|_I_D_8Z4sJE|   NickyJamTV|312945464|2018-03-28 00:00:00|Britain|\n",
            "|Bad Bunny - Amorf...|kLpH1nSLJSs|    Bad Bunny|310074566|2018-03-20 00:00:00|Britain|\n",
            "|Bad Bunny - Amorf...|kLpH1nSLJSs|    Bad Bunny|304530584|2018-03-19 00:00:00|Britain|\n",
            "|Bad Bunny - Amorf...|kLpH1nSLJSs|    Bad Bunny|299857997|2018-03-18 00:00:00|Britain|\n",
            "|Nicky Jam x J. Ba...|_I_D_8Z4sJE|   NickyJamTV|299697019|2018-03-27 00:00:00|Britain|\n",
            "+--------------------+-----------+-------------+---------+-------------------+-------+\n",
            "only showing top 20 rows\n",
            "\n",
            "+--------------------+-----------+--------------------+-----+-------------------+-------+\n",
            "|               title|   video_id|       channel_title|views|      trending_date|country|\n",
            "+--------------------+-----------+--------------------+-----+-------------------+-------+\n",
            "|1 dead, others in...|y6KYFcta4SE|               Newsy|  549|2018-01-26 00:00:00|     US|\n",
            "|1 dead, others in...|y6KYFcta4SE|               Newsy|  554|2018-01-27 00:00:00|     US|\n",
            "|1 dead, others in...|y6KYFcta4SE|               Newsy|  559|2018-01-28 00:00:00|     US|\n",
            "|       Artwork Forge|dQMZLXaa1L8|    Palo Alto Online|  658|2018-01-27 00:00:00|     US|\n",
            "|Coach Taggart Mon...|-JVITToppE0|       GoDucksdotcom|  687|2017-11-16 00:00:00|     US|\n",
            "|Coach Taggart Mon...|-JVITToppE0|       GoDucksdotcom|  704|2017-11-17 00:00:00|     US|\n",
            "|       Artwork Forge|dQMZLXaa1L8|    Palo Alto Online|  713|2018-01-28 00:00:00|     US|\n",
            "|''Gala Artis 2018...|bz91MAdY6FQ|            mart lat|  733|2018-05-14 00:00:00| Canada|\n",
            "|       Artwork Forge|dQMZLXaa1L8|    Palo Alto Online|  745|2018-01-29 00:00:00|     US|\n",
            "|Raw: 3 South Caro...|zeQaJGkFyqQ|    Associated Press|  748|2018-01-18 00:00:00|     US|\n",
            "|Huffy Metaloid Bi...|qg0GdM60syI|     90s Commercials|  773|2017-11-14 00:00:00|     US|\n",
            "|OjO Commuter Scoo...|JNv4w6DFoYs|OjO Commuter Scoo...|  789|2018-01-08 00:00:00|     US|\n",
            "|John Legend And T...|S_HixQBiVH0|                 CBS|  798|2018-01-29 00:00:00|     US|\n",
            "|Bannon Arrives to...|tKX8nUCSBjM|    Associated Press|  810|2018-01-19 00:00:00|     US|\n",
            "|Bannon Arrives to...|tKX8nUCSBjM|    Associated Press|  820|2018-01-20 00:00:00|     US|\n",
            "|Bannon Arrives to...|tKX8nUCSBjM|    Associated Press|  835|2018-01-21 00:00:00|     US|\n",
            "|Mountain Bikers W...|n26wtR-OFr8|    That's Surrey TV|  851|2017-12-01 00:00:00|Britain|\n",
            "|UR EEOC Complaina...|TKMXw1YI5S4|University of Roc...|  884|2018-01-13 00:00:00|     US|\n",
            "|Mountain Bikers W...|n26wtR-OFr8|    That's Surrey TV|  890|2017-12-02 00:00:00|Britain|\n",
            "|OjO Commuter Scoo...|JNv4w6DFoYs|OjO Commuter Scoo...|  917|2018-01-09 00:00:00|     US|\n",
            "+--------------------+-----------+--------------------+-----+-------------------+-------+\n",
            "only showing top 20 rows\n",
            "\n"
          ],
          "name": "stdout"
        }
      ]
    },
    {
      "cell_type": "markdown",
      "metadata": {
        "id": "OdnnVuuZVFsq"
      },
      "source": [
        "#### find out what are the top 20 channel_title trending day wise views"
      ]
    },
    {
      "cell_type": "code",
      "metadata": {
        "id": "wNZbXKPJ5NA8",
        "colab": {
          "base_uri": "https://localhost:8080/"
        },
        "outputId": "344b940f-aeef-4825-9d11-917e6f126e9f"
      },
      "source": [
        "df2 = spark.sql('''select * from youtube order BY views DESC''')\n",
        "df2.show(20)"
      ],
      "execution_count": null,
      "outputs": [
        {
          "output_type": "stream",
          "text": [
            "+-----------+-------------------+--------------------+-------------+-----------+-------------------+--------------------+---------+-------+--------+-------------+--------------------+-----------------+----------------+----------------------+-------+-------+--------+------+-------+--------+------+\n",
            "|   video_id|      trending_date|               title|channel_title|category_id|       publish_time|                tags|    views|  likes|dislikes|comment_count|      thumbnail_link|comments_disabled|ratings_disabled|video_error_or_removed|country|tr_year|tr_month|tr_day|pb_year|pb_month|pb_day|\n",
            "+-----------+-------------------+--------------------+-------------+-----------+-------------------+--------------------+---------+-------+--------+-------------+--------------------+-----------------+----------------+----------------------+-------+-------+--------+------+-------+--------+------+\n",
            "|_I_D_8Z4sJE|2018-04-07 00:00:00|Nicky Jam x J. Ba...|   NickyJamTV|         10|2018-03-02 05:00:19|Bad Bunny|\"Amorfo...|424538912|2818771|  149275|        99380|https://i.ytimg.c...|            false|           false|                 false|Britain|   2018|       4|     7|   2018|       3|     2|\n",
            "|_I_D_8Z4sJE|2018-04-06 00:00:00|Nicky Jam x J. Ba...|   NickyJamTV|         10|2018-03-02 05:00:19|Bad Bunny|\"Amorfo...|413586699|2768654|  145643|        97218|https://i.ytimg.c...|            false|           false|                 false|Britain|   2018|       4|     6|   2018|       3|     2|\n",
            "|_I_D_8Z4sJE|2018-04-05 00:00:00|Nicky Jam x J. Ba...|   NickyJamTV|         10|2018-03-02 05:00:19|Bad Bunny|\"Amorfo...|402650804|2719005|  142006|        95713|https://i.ytimg.c...|            false|           false|                 false|Britain|   2018|       4|     5|   2018|       3|     2|\n",
            "|_I_D_8Z4sJE|2018-04-04 00:00:00|Nicky Jam x J. Ba...|   NickyJamTV|         10|2018-03-02 05:00:19|Bad Bunny|\"Amorfo...|392036878|2670723|  138334|        93834|https://i.ytimg.c...|            false|           false|                 false|Britain|   2018|       4|     4|   2018|       3|     2|\n",
            "|_I_D_8Z4sJE|2018-04-03 00:00:00|Nicky Jam x J. Ba...|   NickyJamTV|         10|2018-03-02 05:00:19|Bad Bunny|\"Amorfo...|382401497|2618320|  134625|        92387|https://i.ytimg.c...|            false|           false|                 false|Britain|   2018|       4|     3|   2018|       3|     2|\n",
            "|_I_D_8Z4sJE|2018-04-02 00:00:00|Nicky Jam x J. Ba...|   NickyJamTV|         10|2018-03-02 05:00:19|Bad Bunny|\"Amorfo...|372399338|2564815|  131168|        90644|https://i.ytimg.c...|            false|           false|                 false|Britain|   2018|       4|     2|   2018|       3|     2|\n",
            "|_I_D_8Z4sJE|2018-04-01 00:00:00|Nicky Jam x J. Ba...|   NickyJamTV|         10|2018-03-02 05:00:19|Bad Bunny|\"Amorfo...|362111555|2506788|  127178|        89066|https://i.ytimg.c...|            false|           false|                 false|Britain|   2018|       4|     1|   2018|       3|     2|\n",
            "|_I_D_8Z4sJE|2018-03-31 00:00:00|Nicky Jam x J. Ba...|   NickyJamTV|         10|2018-03-02 05:00:19|Bad Bunny|\"Amorfo...|349987176|2440754|  122408|        86952|https://i.ytimg.c...|            false|           false|                 false|Britain|   2018|       3|    31|   2018|       3|     2|\n",
            "|_I_D_8Z4sJE|2018-03-30 00:00:00|Nicky Jam x J. Ba...|   NickyJamTV|         10|2018-03-02 05:00:19|Bad Bunny|\"Amorfo...|339629489|2378829|  118294|        85095|https://i.ytimg.c...|            false|           false|                 false|Britain|   2018|       3|    30|   2018|       3|     2|\n",
            "|9jI-z9QN6g8|2018-05-18 00:00:00|Te Bote Remix - C...|Flow La Movie|         10|2018-04-11 22:00:00|Te Bote|\"Te Bote ...|337621571|2581961|  166549|       113564|https://i.ytimg.c...|            false|           false|                 false|Britain|   2018|       5|    18|   2018|       4|    11|\n",
            "|kLpH1nSLJSs|2018-03-23 00:00:00|Bad Bunny - Amorf...|    Bad Bunny|         10|2018-02-15 00:00:03|Bad|\"Bunny\"|\"Bad ...|328860380|3823879|  215530|       225216|https://i.ytimg.c...|            false|           false|                 false|Britain|   2018|       3|    23|   2018|       2|    15|\n",
            "|9jI-z9QN6g8|2018-05-17 00:00:00|Te Bote Remix - C...|Flow La Movie|         10|2018-04-11 22:00:00|Te Bote|\"Te Bote ...|328024035|2540597|  162274|       110468|https://i.ytimg.c...|            false|           false|                 false|Britain|   2018|       5|    17|   2018|       4|    11|\n",
            "|_I_D_8Z4sJE|2018-03-29 00:00:00|Nicky Jam x J. Ba...|   NickyJamTV|         10|2018-03-02 05:00:19|Bad Bunny|\"Amorfo...|326890258|2308645|  113682|        82804|https://i.ytimg.c...|            false|           false|                 false|Britain|   2018|       3|    29|   2018|       3|     2|\n",
            "|kLpH1nSLJSs|2018-03-22 00:00:00|Bad Bunny - Amorf...|    Bad Bunny|         10|2018-02-15 00:00:03|Bad|\"Bunny\"|\"Bad ...|322211201|3795369|  212880|       223102|https://i.ytimg.c...|            false|           false|                 false|Britain|   2018|       3|    22|   2018|       2|    15|\n",
            "|kLpH1nSLJSs|2018-03-21 00:00:00|Bad Bunny - Amorf...|    Bad Bunny|         10|2018-02-15 00:00:03|Bad|\"Bunny\"|\"Bad ...|315860445|3767454|  210057|       220839|https://i.ytimg.c...|            false|           false|                 false|Britain|   2018|       3|    21|   2018|       2|    15|\n",
            "|_I_D_8Z4sJE|2018-03-28 00:00:00|Nicky Jam x J. Ba...|   NickyJamTV|         10|2018-03-02 05:00:19|Bad Bunny|\"Amorfo...|312945464|2237989|  109391|        80314|https://i.ytimg.c...|            false|           false|                 false|Britain|   2018|       3|    28|   2018|       3|     2|\n",
            "|kLpH1nSLJSs|2018-03-20 00:00:00|Bad Bunny - Amorf...|    Bad Bunny|         10|2018-02-15 00:00:03|Bad|\"Bunny\"|\"Bad ...|310074566|3741140|  207563|       218717|https://i.ytimg.c...|            false|           false|                 false|Britain|   2018|       3|    20|   2018|       2|    15|\n",
            "|kLpH1nSLJSs|2018-03-19 00:00:00|Bad Bunny - Amorf...|    Bad Bunny|         10|2018-02-15 00:00:03|Bad|\"Bunny\"|\"Bad ...|304530584|3714313|  204898|       216745|https://i.ytimg.c...|            false|           false|                 false|Britain|   2018|       3|    19|   2018|       2|    15|\n",
            "|kLpH1nSLJSs|2018-03-18 00:00:00|Bad Bunny - Amorf...|    Bad Bunny|         10|2018-02-15 00:00:03|Bad|\"Bunny\"|\"Bad ...|299857997|3685999|  202434|       214713|https://i.ytimg.c...|            false|           false|                 false|Britain|   2018|       3|    18|   2018|       2|    15|\n",
            "|_I_D_8Z4sJE|2018-03-27 00:00:00|Nicky Jam x J. Ba...|   NickyJamTV|         10|2018-03-02 05:00:19|Bad Bunny|\"Amorfo...|299697019|2167485|  104899|        78106|https://i.ytimg.c...|            false|           false|                 false|Britain|   2018|       3|    27|   2018|       3|     2|\n",
            "+-----------+-------------------+--------------------+-------------+-----------+-------------------+--------------------+---------+-------+--------+-------------+--------------------+-----------------+----------------+----------------------+-------+-------+--------+------+-------+--------+------+\n",
            "only showing top 20 rows\n",
            "\n"
          ],
          "name": "stdout"
        }
      ]
    },
    {
      "cell_type": "markdown",
      "metadata": {
        "id": "lqtLtOVxHfpB"
      },
      "source": [
        "####Top 10 monthly trending videos"
      ]
    },
    {
      "cell_type": "code",
      "metadata": {
        "id": "3wxIDAU9J6bL",
        "colab": {
          "base_uri": "https://localhost:8080/"
        },
        "outputId": "119ff91e-8fa8-4f22-f211-7815860c3ebf"
      },
      "source": [
        "# Top 10 monthly trending videos\n",
        "\n",
        "df3 = spark.sql('''select  channel_title,  max(likes), min(dislikes), trending_date from youtube GROUP BY channel_title, trending_date  ''')\n",
        "df3.show(10)\n"
      ],
      "execution_count": null,
      "outputs": [
        {
          "output_type": "stream",
          "text": [
            "+--------------------+----------+-------------+-------------------+\n",
            "|       channel_title|max(likes)|min(dislikes)|      trending_date|\n",
            "+--------------------+----------+-------------+-------------------+\n",
            "|      V6 News Telugu|      2487|          219|2017-11-14 00:00:00|\n",
            "|   Eagle Media Works|        88|           59|2017-11-15 00:00:00|\n",
            "|   Comedy Central UK|      2924|           17|2017-11-15 00:00:00|\n",
            "|BollywoodHungama.com|       619|           31|2017-11-16 00:00:00|\n",
            "|       Speed Records|    165324|         1240|2017-11-17 00:00:00|\n",
            "|           FilmiBeat|       341|           58|2017-11-17 00:00:00|\n",
            "|    The Screen Patti|     15545|         1303|2017-11-18 00:00:00|\n",
            "|         Black Sheep|     13682|          651|2017-11-18 00:00:00|\n",
            "|             NOIX TV|      2957|         1095|2017-11-19 00:00:00|\n",
            "|        Humble Music|      6428|          335|2017-11-19 00:00:00|\n",
            "+--------------------+----------+-------------+-------------------+\n",
            "only showing top 10 rows\n",
            "\n"
          ],
          "name": "stdout"
        }
      ]
    },
    {
      "cell_type": "code",
      "metadata": {
        "id": "xcKwUgiZJ6Yo",
        "colab": {
          "base_uri": "https://localhost:8080/"
        },
        "outputId": "38de0b84-3462-44f9-f4ea-2b994ae6e555"
      },
      "source": [
        "# Top 20 videos with largest number of dislikes.\n",
        "\n",
        "df4 = spark.sql('''select channel_title, video_id, dislikes, trending_date, country  from youtube GROUP BY channel_title, video_id, dislikes, trending_date, country ORDER BY dislikes DESC''')\n",
        "df4.show()"
      ],
      "execution_count": null,
      "outputs": [
        {
          "output_type": "stream",
          "text": [
            "+-----------------+-----------+--------+-------------------+-------+\n",
            "|    channel_title|   video_id|dislikes|      trending_date|country|\n",
            "+-----------------+-----------+--------+-------------------+-------+\n",
            "| Logan Paul Vlogs|QwZT7T-TXT0| 1944971|2018-01-18 00:00:00|Britain|\n",
            "| Logan Paul Vlogs|QwZT7T-TXT0| 1928677|2018-01-17 00:00:00|Britain|\n",
            "| Logan Paul Vlogs|QwZT7T-TXT0| 1911836|2018-01-16 00:00:00|Britain|\n",
            "| Logan Paul Vlogs|QwZT7T-TXT0| 1890743|2018-01-15 00:00:00|Britain|\n",
            "| Logan Paul Vlogs|QwZT7T-TXT0| 1868756|2018-01-14 00:00:00|Britain|\n",
            "| Logan Paul Vlogs|QwZT7T-TXT0| 1843521|2018-01-13 00:00:00|Britain|\n",
            "| Logan Paul Vlogs|QwZT7T-TXT0| 1802219|2018-01-12 00:00:00|Britain|\n",
            "|YouTube Spotlight|FlsCjmMhFmw| 1753274|2017-12-24 00:00:00|Britain|\n",
            "|YouTube Spotlight|FlsCjmMhFmw| 1739579|2017-12-23 00:00:00|Britain|\n",
            "|YouTube Spotlight|FlsCjmMhFmw| 1732859|2017-12-22 00:00:00|Britain|\n",
            "|YouTube Spotlight|FlsCjmMhFmw| 1727826|2017-12-21 00:00:00|Britain|\n",
            "|YouTube Spotlight|FlsCjmMhFmw| 1722307|2017-12-20 00:00:00|Britain|\n",
            "|YouTube Spotlight|FlsCjmMhFmw| 1712284|2017-12-19 00:00:00|Britain|\n",
            "|YouTube Spotlight|FlsCjmMhFmw| 1704861|2017-12-18 00:00:00|Britain|\n",
            "|YouTube Spotlight|FlsCjmMhFmw| 1694945|2017-12-17 00:00:00|Britain|\n",
            "|YouTube Spotlight|FlsCjmMhFmw| 1683321|2017-12-16 00:00:00|Britain|\n",
            "| Logan Paul Vlogs|QwZT7T-TXT0| 1674420|2018-01-09 00:00:00|Britain|\n",
            "| Logan Paul Vlogs|QwZT7T-TXT0| 1674420|2018-01-09 00:00:00|     US|\n",
            "|YouTube Spotlight|FlsCjmMhFmw| 1668460|2017-12-15 00:00:00|Britain|\n",
            "|YouTube Spotlight|FlsCjmMhFmw| 1643060|2017-12-14 00:00:00|Britain|\n",
            "+-----------------+-----------+--------+-------------------+-------+\n",
            "only showing top 20 rows\n",
            "\n"
          ],
          "name": "stdout"
        }
      ]
    },
    {
      "cell_type": "markdown",
      "metadata": {
        "id": "-43TmP6OIsH3"
      },
      "source": [
        "####top viewd channels daywise grouped by month"
      ]
    },
    {
      "cell_type": "code",
      "metadata": {
        "id": "a6nDF2mPJ6VB",
        "colab": {
          "base_uri": "https://localhost:8080/"
        },
        "outputId": "7c03197e-1b60-496c-b9ff-05293ef8f6ca"
      },
      "source": [
        "# top viewd channels daywise grouped by month\n",
        "\n",
        "df4 = spark.sql('''select channel_title, views, tr_day, tr_month, tr_year, publish_time  from youtube GROUP BY channel_title, views, tr_month, tr_day, tr_year, publish_time order BY views DESC''')\n",
        "df4.show()"
      ],
      "execution_count": null,
      "outputs": [
        {
          "output_type": "stream",
          "text": [
            "+-------------+---------+------+--------+-------+-------------------+\n",
            "|channel_title|    views|tr_day|tr_month|tr_year|       publish_time|\n",
            "+-------------+---------+------+--------+-------+-------------------+\n",
            "|   NickyJamTV|424538912|     7|       4|   2018|2018-03-02 05:00:19|\n",
            "|   NickyJamTV|413586699|     6|       4|   2018|2018-03-02 05:00:19|\n",
            "|   NickyJamTV|402650804|     5|       4|   2018|2018-03-02 05:00:19|\n",
            "|   NickyJamTV|392036878|     4|       4|   2018|2018-03-02 05:00:19|\n",
            "|   NickyJamTV|382401497|     3|       4|   2018|2018-03-02 05:00:19|\n",
            "|   NickyJamTV|372399338|     2|       4|   2018|2018-03-02 05:00:19|\n",
            "|   NickyJamTV|362111555|     1|       4|   2018|2018-03-02 05:00:19|\n",
            "|   NickyJamTV|349987176|    31|       3|   2018|2018-03-02 05:00:19|\n",
            "|   NickyJamTV|339629489|    30|       3|   2018|2018-03-02 05:00:19|\n",
            "|Flow La Movie|337621571|    18|       5|   2018|2018-04-11 22:00:00|\n",
            "|    Bad Bunny|328860380|    23|       3|   2018|2018-02-15 00:00:03|\n",
            "|Flow La Movie|328024035|    17|       5|   2018|2018-04-11 22:00:00|\n",
            "|   NickyJamTV|326890258|    29|       3|   2018|2018-03-02 05:00:19|\n",
            "|    Bad Bunny|322211201|    22|       3|   2018|2018-02-15 00:00:03|\n",
            "|    Bad Bunny|315860445|    21|       3|   2018|2018-02-15 00:00:03|\n",
            "|   NickyJamTV|312945464|    28|       3|   2018|2018-03-02 05:00:19|\n",
            "|    Bad Bunny|310074566|    20|       3|   2018|2018-02-15 00:00:03|\n",
            "|    Bad Bunny|304530584|    19|       3|   2018|2018-02-15 00:00:03|\n",
            "|    Bad Bunny|299857997|    18|       3|   2018|2018-02-15 00:00:03|\n",
            "|   NickyJamTV|299697019|    27|       3|   2018|2018-03-02 05:00:19|\n",
            "+-------------+---------+------+--------+-------+-------------------+\n",
            "only showing top 20 rows\n",
            "\n"
          ],
          "name": "stdout"
        }
      ]
    },
    {
      "cell_type": "markdown",
      "metadata": {
        "id": "hrvMqgrxKyQ8"
      },
      "source": [
        "From the above it can be seen that, to come in *trending* video it takes around a month since its published date. "
      ]
    },
    {
      "cell_type": "markdown",
      "metadata": {
        "id": "nRa4sORjLNok"
      },
      "source": [
        "##Machine Learning Modeling"
      ]
    },
    {
      "cell_type": "markdown",
      "metadata": {
        "id": "wcuQ2QhbLzQo"
      },
      "source": [
        "###predicting likes on the basis of views, comment counts and dislikes"
      ]
    },
    {
      "cell_type": "markdown",
      "metadata": {
        "id": "mjGWZjfQLror"
      },
      "source": [
        "####finding important features from the given dataset"
      ]
    },
    {
      "cell_type": "markdown",
      "metadata": {
        "id": "AevHoCrBP0jU"
      },
      "source": [
        "#####creating new **features** dataframe which contains the variables which are needed to train the model and predict"
      ]
    },
    {
      "cell_type": "code",
      "metadata": {
        "id": "4-jiWRp-lNSh",
        "colab": {
          "base_uri": "https://localhost:8080/"
        },
        "outputId": "c1d23912-ad29-4ba6-f64e-ca8a1a3154ab"
      },
      "source": [
        "# making copy of original dataframe\n",
        "data_copy = df\n",
        "data_copy.show(10)"
      ],
      "execution_count": null,
      "outputs": [
        {
          "output_type": "stream",
          "text": [
            "+-----------+-------------------+--------------------+----------------+-----------+-------------------+--------------------+--------+------+--------+-------------+--------------------+-----------------+----------------+----------------------+-------+-------+--------+------+-------+--------+------+\n",
            "|   video_id|      trending_date|               title|   channel_title|category_id|       publish_time|                tags|   views| likes|dislikes|comment_count|      thumbnail_link|comments_disabled|ratings_disabled|video_error_or_removed|country|tr_year|tr_month|tr_day|pb_year|pb_month|pb_day|\n",
            "+-----------+-------------------+--------------------+----------------+-----------+-------------------+--------------------+--------+------+--------+-------------+--------------------+-----------------+----------------+----------------------+-------+-------+--------+------+-------+--------+------+\n",
            "|kzwfHumJyYc|2017-11-14 00:00:00|Sharry Mann: Cute...| Lokdhun Punjabi|          1|2017-11-12 12:20:39|sharry mann|\"shar...| 1096327| 33966|     798|          882|https://i.ytimg.c...|            false|           false|                 false|  India|   2017|      11|    14|   2017|      11|    12|\n",
            "|zUZ1z7FwLc8|2017-11-14 00:00:00|पीरियड्स के समय, ...|         HJ NEWS|         25|2017-11-13 05:43:56|पीरियड्स के समय|\"...|  590101|   735|     904|            0|https://i.ytimg.c...|             true|           false|                 false|  India|   2017|      11|    14|   2017|      11|    13|\n",
            "|10L1hZ9qa58|2017-11-14 00:00:00|Stylish Star Allu...|            TFPC|         24|2017-11-12 15:48:08|Stylish Star Allu...|  473988|  2011|     243|          149|https://i.ytimg.c...|            false|           false|                 false|  India|   2017|      11|    14|   2017|      11|    12|\n",
            "|N1vE8iiEg64|2017-11-14 00:00:00|Eruma Saani | Tam...|     Eruma Saani|         23|2017-11-12 07:08:48|Eruma Saani|\"Tami...| 1242680| 70353|    1624|         2684|https://i.ytimg.c...|            false|           false|                 false|  India|   2017|      11|    14|   2017|      11|    12|\n",
            "|kJzGH0PVQHQ|2017-11-14 00:00:00|why Samantha beca...|      Filmylooks|         24|2017-11-13 01:14:16|Filmylooks|\"lates...|  464015|   492|     293|           66|https://i.ytimg.c...|            false|           false|                 false|  India|   2017|      11|    14|   2017|      11|    13|\n",
            "|il_pSa5l98w|2017-11-14 00:00:00|MCA (Middle Class...|        Dil Raju|         24|2017-11-10 04:29:50|Nenu Local|\"Nenu ...| 6106669| 98612|    4185|         4763|https://i.ytimg.c...|            false|           false|                 false|  India|   2017|      11|    14|   2017|      11|    10|\n",
            "|7MxiQ4v0EnE|2017-11-14 00:00:00|Daang ( Full Vide...|   Speed Records|         10|2017-11-11 16:41:15|punjabi songs|\"pu...| 5718766|127477|    7134|         8063|https://i.ytimg.c...|            false|           false|                 false|  India|   2017|      11|    14|   2017|      11|    11|\n",
            "|c64I9HNpiOY|2017-11-14 00:00:00|Padmavati : Ek Di...|        T-Series|         10|2017-11-11 06:14:19|Ek Dil Ek Jaan Vi...|10588371|132738|    8812|        10847|https://i.ytimg.c...|            false|           false|                 false|  India|   2017|      11|    14|   2017|      11|    11|\n",
            "|KObFEYCaRx8|2017-11-14 00:00:00|Chiranjeevi in Na...|Top Telugu Media|         24|2017-11-13 04:42:26|Chiranjeevi in Na...|  118223|   520|      53|           23|https://i.ytimg.c...|            false|           false|                 false|  India|   2017|      11|    14|   2017|      11|    13|\n",
            "|g8QsfJhFpjY|2017-11-14 00:00:00|New bike vs Old b...|       Jump Cuts|         24|2017-11-12 04:30:01|Jump cuts|\"Jumpcu...|  969030| 59798|    1545|         2404|https://i.ytimg.c...|            false|           false|                 false|  India|   2017|      11|    14|   2017|      11|    12|\n",
            "+-----------+-------------------+--------------------+----------------+-----------+-------------------+--------------------+--------+------+--------+-------------+--------------------+-----------------+----------------+----------------------+-------+-------+--------+------+-------+--------+------+\n",
            "only showing top 10 rows\n",
            "\n"
          ],
          "name": "stdout"
        }
      ]
    },
    {
      "cell_type": "code",
      "metadata": {
        "id": "laDKu_vIm14G"
      },
      "source": [
        "# drop unwanted columns\n",
        "data_copy=data_copy.drop(\"tags\",\"description\",\"title\",\"channel_title\",\"publish_time\",\"video_id\",\"thumbnail_link\",\"trending_date\")"
      ],
      "execution_count": null,
      "outputs": []
    },
    {
      "cell_type": "code",
      "metadata": {
        "id": "LhqvYEWwm10p",
        "colab": {
          "base_uri": "https://localhost:8080/"
        },
        "outputId": "e32470e6-6e75-45db-a35d-1b713f40256c"
      },
      "source": [
        "data_copy.show(10)"
      ],
      "execution_count": null,
      "outputs": [
        {
          "output_type": "stream",
          "text": [
            "+-----------+--------+------+--------+-------------+-----------------+----------------+----------------------+-------+-------+--------+------+-------+--------+------+\n",
            "|category_id|   views| likes|dislikes|comment_count|comments_disabled|ratings_disabled|video_error_or_removed|country|tr_year|tr_month|tr_day|pb_year|pb_month|pb_day|\n",
            "+-----------+--------+------+--------+-------------+-----------------+----------------+----------------------+-------+-------+--------+------+-------+--------+------+\n",
            "|          1| 1096327| 33966|     798|          882|            false|           false|                 false|  India|   2017|      11|    14|   2017|      11|    12|\n",
            "|         25|  590101|   735|     904|            0|             true|           false|                 false|  India|   2017|      11|    14|   2017|      11|    13|\n",
            "|         24|  473988|  2011|     243|          149|            false|           false|                 false|  India|   2017|      11|    14|   2017|      11|    12|\n",
            "|         23| 1242680| 70353|    1624|         2684|            false|           false|                 false|  India|   2017|      11|    14|   2017|      11|    12|\n",
            "|         24|  464015|   492|     293|           66|            false|           false|                 false|  India|   2017|      11|    14|   2017|      11|    13|\n",
            "|         24| 6106669| 98612|    4185|         4763|            false|           false|                 false|  India|   2017|      11|    14|   2017|      11|    10|\n",
            "|         10| 5718766|127477|    7134|         8063|            false|           false|                 false|  India|   2017|      11|    14|   2017|      11|    11|\n",
            "|         10|10588371|132738|    8812|        10847|            false|           false|                 false|  India|   2017|      11|    14|   2017|      11|    11|\n",
            "|         24|  118223|   520|      53|           23|            false|           false|                 false|  India|   2017|      11|    14|   2017|      11|    13|\n",
            "|         24|  969030| 59798|    1545|         2404|            false|           false|                 false|  India|   2017|      11|    14|   2017|      11|    12|\n",
            "+-----------+--------+------+--------+-------------+-----------------+----------------+----------------------+-------+-------+--------+------+-------+--------+------+\n",
            "only showing top 10 rows\n",
            "\n"
          ],
          "name": "stdout"
        }
      ]
    },
    {
      "cell_type": "code",
      "metadata": {
        "id": "WKbCA_-tZwjB",
        "colab": {
          "base_uri": "https://localhost:8080/"
        },
        "outputId": "66818203-75f5-4068-ce91-a7637d6a3727"
      },
      "source": [
        "len(df.columns)"
      ],
      "execution_count": null,
      "outputs": [
        {
          "output_type": "execute_result",
          "data": {
            "text/plain": [
              "22"
            ]
          },
          "metadata": {
            "tags": []
          },
          "execution_count": 56
        }
      ]
    },
    {
      "cell_type": "code",
      "metadata": {
        "id": "4m2qAKcdm1xp"
      },
      "source": [
        "# changing datatypes of columns\n",
        "\n",
        "from pyspark.sql.types import IntegerType\n",
        "\n",
        "#data_copy[\"comments_disabled\"]=(data_copy[\"comments_disabled\"]==\"true\").cast(IntegerType())\n",
        "data_copy = data_copy.withColumn(\"comments_disabled1\", data_copy[\"comments_disabled\"].cast(IntegerType()))\n",
        "data_copy = data_copy.withColumn(\"ratings_disabled1\", data_copy[\"ratings_disabled\"].cast(IntegerType()))\n",
        "data_copy = data_copy.withColumn(\"video_error_or_removed1\", data_copy[\"video_error_or_removed\"].cast(IntegerType()))\n"
      ],
      "execution_count": null,
      "outputs": []
    },
    {
      "cell_type": "code",
      "metadata": {
        "id": "UcRF30GK9885"
      },
      "source": [
        "# dropping columnns which is tyoe casted and now it is not needed\n",
        "data_copy = data_copy.drop('comments_disabled', 'ratings_disabled', 'video_error_or_removed')"
      ],
      "execution_count": null,
      "outputs": []
    },
    {
      "cell_type": "code",
      "metadata": {
        "id": "5HWFvHYa-QBb",
        "colab": {
          "base_uri": "https://localhost:8080/"
        },
        "outputId": "6fc8dad2-0182-417f-dc85-1cf8eca75f78"
      },
      "source": [
        "# final dataframe \n",
        "data_copy.show(5)"
      ],
      "execution_count": null,
      "outputs": [
        {
          "output_type": "stream",
          "text": [
            "+-----------+-------+-----+--------+-------------+-------+-------+--------+------+-------+--------+------+------------------+-----------------+-----------------------+\n",
            "|category_id|  views|likes|dislikes|comment_count|country|tr_year|tr_month|tr_day|pb_year|pb_month|pb_day|comments_disabled1|ratings_disabled1|video_error_or_removed1|\n",
            "+-----------+-------+-----+--------+-------------+-------+-------+--------+------+-------+--------+------+------------------+-----------------+-----------------------+\n",
            "|          1|1096327|33966|     798|          882|  India|   2017|      11|    14|   2017|      11|    12|                 0|                0|                      0|\n",
            "|         25| 590101|  735|     904|            0|  India|   2017|      11|    14|   2017|      11|    13|                 1|                0|                      0|\n",
            "|         24| 473988| 2011|     243|          149|  India|   2017|      11|    14|   2017|      11|    12|                 0|                0|                      0|\n",
            "|         23|1242680|70353|    1624|         2684|  India|   2017|      11|    14|   2017|      11|    12|                 0|                0|                      0|\n",
            "|         24| 464015|  492|     293|           66|  India|   2017|      11|    14|   2017|      11|    13|                 0|                0|                      0|\n",
            "+-----------+-------+-----+--------+-------------+-------+-------+--------+------+-------+--------+------+------------------+-----------------+-----------------------+\n",
            "only showing top 5 rows\n",
            "\n"
          ],
          "name": "stdout"
        }
      ]
    },
    {
      "cell_type": "code",
      "metadata": {
        "id": "3_86qSqC9zDq",
        "colab": {
          "base_uri": "https://localhost:8080/"
        },
        "outputId": "b731630b-6f88-4c48-e5ba-80f9c2c1124e"
      },
      "source": [
        "# filtering US data and model on it\n",
        "data_copy_US = data_copy.filter((col(\"country\") == 'US'))\n",
        "data_copy_US.show()"
      ],
      "execution_count": null,
      "outputs": [
        {
          "output_type": "stream",
          "text": [
            "+-----------+-------+------+--------+-------------+-------+-------+--------+------+-------+--------+------+------------------+-----------------+-----------------------+\n",
            "|category_id|  views| likes|dislikes|comment_count|country|tr_year|tr_month|tr_day|pb_year|pb_month|pb_day|comments_disabled1|ratings_disabled1|video_error_or_removed1|\n",
            "+-----------+-------+------+--------+-------------+-------+-------+--------+------+-------+--------+------+------------------+-----------------+-----------------------+\n",
            "|         22| 748374| 57527|    2966|        15954|     US|   2017|      11|    14|   2017|      11|    13|                 0|                0|                      0|\n",
            "|         24|2418783| 97185|    6146|        12703|     US|   2017|      11|    14|   2017|      11|    13|                 0|                0|                      0|\n",
            "|         23|3191434|146033|    5339|         8181|     US|   2017|      11|    14|   2017|      11|    12|                 0|                0|                      0|\n",
            "|         24| 343168| 10172|     666|         2146|     US|   2017|      11|    14|   2017|      11|    13|                 0|                0|                      0|\n",
            "|         24|2095731|132235|    1989|        17518|     US|   2017|      11|    14|   2017|      11|    12|                 0|                0|                      0|\n",
            "|         28| 119180|  9763|     511|         1434|     US|   2017|      11|    14|   2017|      11|    13|                 0|                0|                      0|\n",
            "|         24|2103417| 15993|    2445|         1970|     US|   2017|      11|    14|   2017|      11|    12|                 0|                0|                      0|\n",
            "|         28| 817732| 23663|     778|         3432|     US|   2017|      11|    14|   2017|      11|    12|                 0|                0|                      0|\n",
            "|          1| 826059|  3543|     119|          340|     US|   2017|      11|    14|   2017|      11|    13|                 0|                0|                      0|\n",
            "|         25| 256426| 12654|    1363|         2368|     US|   2017|      11|    14|   2017|      11|    13|                 0|                0|                      0|\n",
            "|         17|  81377|   655|      25|          177|     US|   2017|      11|    14|   2017|      11|    13|                 0|                0|                      0|\n",
            "|         24| 104578|  1576|     303|         1279|     US|   2017|      11|    14|   2017|      11|    13|                 0|                0|                      0|\n",
            "|         10| 687582|114188|    1333|         8371|     US|   2017|      11|    14|   2017|      11|    13|                 0|                0|                      0|\n",
            "|         25| 544770|  7848|    1171|         3981|     US|   2017|      11|    14|   2017|      11|    12|                 0|                0|                      0|\n",
            "|         15| 207532|  7473|     246|         2120|     US|   2017|      11|    14|   2017|      11|    12|                 0|                0|                      0|\n",
            "|         28|  75752|  9419|      52|         1230|     US|   2017|      11|    14|   2017|      11|    13|                 0|                0|                      0|\n",
            "|         23| 295639|  8011|     638|         1256|     US|   2017|      11|    14|   2017|      11|    12|                 0|                0|                      0|\n",
            "|         27|  78044|  5398|      53|          385|     US|   2017|      11|    14|   2017|      11|    13|                 0|                0|                      0|\n",
            "|         28|  97007| 11963|      36|         2211|     US|   2017|      11|    14|   2017|      11|    13|                 0|                0|                      0|\n",
            "|         27| 223871|  8421|     191|         1214|     US|   2017|      11|    14|   2017|      11|    12|                 0|                0|                      0|\n",
            "+-----------+-------+------+--------+-------------+-------+-------+--------+------+-------+--------+------+------------------+-----------------+-----------------------+\n",
            "only showing top 20 rows\n",
            "\n"
          ],
          "name": "stdout"
        }
      ]
    },
    {
      "cell_type": "code",
      "metadata": {
        "id": "wTC9rDcCm1p8",
        "colab": {
          "base_uri": "https://localhost:8080/"
        },
        "outputId": "50bee672-8adc-4ee6-c855-b361cfce6e0a"
      },
      "source": [
        "# get the rows where comments are not disabled, so comment count will not be 0\n",
        "data_copy_US = data_copy_US.filter((col(\"comments_disabled1\") != 1))\n",
        "data_copy_US.show()"
      ],
      "execution_count": null,
      "outputs": [
        {
          "output_type": "stream",
          "text": [
            "+-----------+-------+------+--------+-------------+-------+-------+--------+------+-------+--------+------+------------------+-----------------+-----------------------+\n",
            "|category_id|  views| likes|dislikes|comment_count|country|tr_year|tr_month|tr_day|pb_year|pb_month|pb_day|comments_disabled1|ratings_disabled1|video_error_or_removed1|\n",
            "+-----------+-------+------+--------+-------------+-------+-------+--------+------+-------+--------+------+------------------+-----------------+-----------------------+\n",
            "|         22| 748374| 57527|    2966|        15954|     US|   2017|      11|    14|   2017|      11|    13|                 0|                0|                      0|\n",
            "|         24|2418783| 97185|    6146|        12703|     US|   2017|      11|    14|   2017|      11|    13|                 0|                0|                      0|\n",
            "|         23|3191434|146033|    5339|         8181|     US|   2017|      11|    14|   2017|      11|    12|                 0|                0|                      0|\n",
            "|         24| 343168| 10172|     666|         2146|     US|   2017|      11|    14|   2017|      11|    13|                 0|                0|                      0|\n",
            "|         24|2095731|132235|    1989|        17518|     US|   2017|      11|    14|   2017|      11|    12|                 0|                0|                      0|\n",
            "|         28| 119180|  9763|     511|         1434|     US|   2017|      11|    14|   2017|      11|    13|                 0|                0|                      0|\n",
            "|         24|2103417| 15993|    2445|         1970|     US|   2017|      11|    14|   2017|      11|    12|                 0|                0|                      0|\n",
            "|         28| 817732| 23663|     778|         3432|     US|   2017|      11|    14|   2017|      11|    12|                 0|                0|                      0|\n",
            "|          1| 826059|  3543|     119|          340|     US|   2017|      11|    14|   2017|      11|    13|                 0|                0|                      0|\n",
            "|         25| 256426| 12654|    1363|         2368|     US|   2017|      11|    14|   2017|      11|    13|                 0|                0|                      0|\n",
            "|         17|  81377|   655|      25|          177|     US|   2017|      11|    14|   2017|      11|    13|                 0|                0|                      0|\n",
            "|         24| 104578|  1576|     303|         1279|     US|   2017|      11|    14|   2017|      11|    13|                 0|                0|                      0|\n",
            "|         10| 687582|114188|    1333|         8371|     US|   2017|      11|    14|   2017|      11|    13|                 0|                0|                      0|\n",
            "|         25| 544770|  7848|    1171|         3981|     US|   2017|      11|    14|   2017|      11|    12|                 0|                0|                      0|\n",
            "|         15| 207532|  7473|     246|         2120|     US|   2017|      11|    14|   2017|      11|    12|                 0|                0|                      0|\n",
            "|         28|  75752|  9419|      52|         1230|     US|   2017|      11|    14|   2017|      11|    13|                 0|                0|                      0|\n",
            "|         23| 295639|  8011|     638|         1256|     US|   2017|      11|    14|   2017|      11|    12|                 0|                0|                      0|\n",
            "|         27|  78044|  5398|      53|          385|     US|   2017|      11|    14|   2017|      11|    13|                 0|                0|                      0|\n",
            "|         28|  97007| 11963|      36|         2211|     US|   2017|      11|    14|   2017|      11|    13|                 0|                0|                      0|\n",
            "|         27| 223871|  8421|     191|         1214|     US|   2017|      11|    14|   2017|      11|    12|                 0|                0|                      0|\n",
            "+-----------+-------+------+--------+-------------+-------+-------+--------+------+-------+--------+------+------------------+-----------------+-----------------------+\n",
            "only showing top 20 rows\n",
            "\n"
          ],
          "name": "stdout"
        }
      ]
    },
    {
      "cell_type": "code",
      "metadata": {
        "id": "Tj_c-C1_m1nY",
        "colab": {
          "base_uri": "https://localhost:8080/"
        },
        "outputId": "6a9b29f7-8062-4125-9871-36e024f7efa2"
      },
      "source": [
        "# get the rows where ratings are not disabled, so ratings will not be 0\n",
        "data_copy_US = data_copy_US.filter((col(\"ratings_disabled1\") != 1))\n",
        "data_copy_US.show()"
      ],
      "execution_count": null,
      "outputs": [
        {
          "output_type": "stream",
          "text": [
            "+-----------+-------+------+--------+-------------+-------+-------+--------+------+-------+--------+------+------------------+-----------------+-----------------------+\n",
            "|category_id|  views| likes|dislikes|comment_count|country|tr_year|tr_month|tr_day|pb_year|pb_month|pb_day|comments_disabled1|ratings_disabled1|video_error_or_removed1|\n",
            "+-----------+-------+------+--------+-------------+-------+-------+--------+------+-------+--------+------+------------------+-----------------+-----------------------+\n",
            "|         22| 748374| 57527|    2966|        15954|     US|   2017|      11|    14|   2017|      11|    13|                 0|                0|                      0|\n",
            "|         24|2418783| 97185|    6146|        12703|     US|   2017|      11|    14|   2017|      11|    13|                 0|                0|                      0|\n",
            "|         23|3191434|146033|    5339|         8181|     US|   2017|      11|    14|   2017|      11|    12|                 0|                0|                      0|\n",
            "|         24| 343168| 10172|     666|         2146|     US|   2017|      11|    14|   2017|      11|    13|                 0|                0|                      0|\n",
            "|         24|2095731|132235|    1989|        17518|     US|   2017|      11|    14|   2017|      11|    12|                 0|                0|                      0|\n",
            "|         28| 119180|  9763|     511|         1434|     US|   2017|      11|    14|   2017|      11|    13|                 0|                0|                      0|\n",
            "|         24|2103417| 15993|    2445|         1970|     US|   2017|      11|    14|   2017|      11|    12|                 0|                0|                      0|\n",
            "|         28| 817732| 23663|     778|         3432|     US|   2017|      11|    14|   2017|      11|    12|                 0|                0|                      0|\n",
            "|          1| 826059|  3543|     119|          340|     US|   2017|      11|    14|   2017|      11|    13|                 0|                0|                      0|\n",
            "|         25| 256426| 12654|    1363|         2368|     US|   2017|      11|    14|   2017|      11|    13|                 0|                0|                      0|\n",
            "|         17|  81377|   655|      25|          177|     US|   2017|      11|    14|   2017|      11|    13|                 0|                0|                      0|\n",
            "|         24| 104578|  1576|     303|         1279|     US|   2017|      11|    14|   2017|      11|    13|                 0|                0|                      0|\n",
            "|         10| 687582|114188|    1333|         8371|     US|   2017|      11|    14|   2017|      11|    13|                 0|                0|                      0|\n",
            "|         25| 544770|  7848|    1171|         3981|     US|   2017|      11|    14|   2017|      11|    12|                 0|                0|                      0|\n",
            "|         15| 207532|  7473|     246|         2120|     US|   2017|      11|    14|   2017|      11|    12|                 0|                0|                      0|\n",
            "|         28|  75752|  9419|      52|         1230|     US|   2017|      11|    14|   2017|      11|    13|                 0|                0|                      0|\n",
            "|         23| 295639|  8011|     638|         1256|     US|   2017|      11|    14|   2017|      11|    12|                 0|                0|                      0|\n",
            "|         27|  78044|  5398|      53|          385|     US|   2017|      11|    14|   2017|      11|    13|                 0|                0|                      0|\n",
            "|         28|  97007| 11963|      36|         2211|     US|   2017|      11|    14|   2017|      11|    13|                 0|                0|                      0|\n",
            "|         27| 223871|  8421|     191|         1214|     US|   2017|      11|    14|   2017|      11|    12|                 0|                0|                      0|\n",
            "+-----------+-------+------+--------+-------------+-------+-------+--------+------+-------+--------+------+------------------+-----------------+-----------------------+\n",
            "only showing top 20 rows\n",
            "\n"
          ],
          "name": "stdout"
        }
      ]
    },
    {
      "cell_type": "code",
      "metadata": {
        "id": "A80rrJwW7ykP",
        "colab": {
          "base_uri": "https://localhost:8080/"
        },
        "outputId": "058d9198-1366-4ffa-cb32-430b7cd85e26"
      },
      "source": [
        "# get the rows where video is not removed or has no error\n",
        "data_copy_US = data_copy_US.filter((col(\"video_error_or_removed1\") != 1))\n",
        "data_copy_US.show()"
      ],
      "execution_count": null,
      "outputs": [
        {
          "output_type": "stream",
          "text": [
            "+-----------+-------+------+--------+-------------+-------+-------+--------+------+-------+--------+------+------------------+-----------------+-----------------------+\n",
            "|category_id|  views| likes|dislikes|comment_count|country|tr_year|tr_month|tr_day|pb_year|pb_month|pb_day|comments_disabled1|ratings_disabled1|video_error_or_removed1|\n",
            "+-----------+-------+------+--------+-------------+-------+-------+--------+------+-------+--------+------+------------------+-----------------+-----------------------+\n",
            "|         22| 748374| 57527|    2966|        15954|     US|   2017|      11|    14|   2017|      11|    13|                 0|                0|                      0|\n",
            "|         24|2418783| 97185|    6146|        12703|     US|   2017|      11|    14|   2017|      11|    13|                 0|                0|                      0|\n",
            "|         23|3191434|146033|    5339|         8181|     US|   2017|      11|    14|   2017|      11|    12|                 0|                0|                      0|\n",
            "|         24| 343168| 10172|     666|         2146|     US|   2017|      11|    14|   2017|      11|    13|                 0|                0|                      0|\n",
            "|         24|2095731|132235|    1989|        17518|     US|   2017|      11|    14|   2017|      11|    12|                 0|                0|                      0|\n",
            "|         28| 119180|  9763|     511|         1434|     US|   2017|      11|    14|   2017|      11|    13|                 0|                0|                      0|\n",
            "|         24|2103417| 15993|    2445|         1970|     US|   2017|      11|    14|   2017|      11|    12|                 0|                0|                      0|\n",
            "|         28| 817732| 23663|     778|         3432|     US|   2017|      11|    14|   2017|      11|    12|                 0|                0|                      0|\n",
            "|          1| 826059|  3543|     119|          340|     US|   2017|      11|    14|   2017|      11|    13|                 0|                0|                      0|\n",
            "|         25| 256426| 12654|    1363|         2368|     US|   2017|      11|    14|   2017|      11|    13|                 0|                0|                      0|\n",
            "|         17|  81377|   655|      25|          177|     US|   2017|      11|    14|   2017|      11|    13|                 0|                0|                      0|\n",
            "|         24| 104578|  1576|     303|         1279|     US|   2017|      11|    14|   2017|      11|    13|                 0|                0|                      0|\n",
            "|         10| 687582|114188|    1333|         8371|     US|   2017|      11|    14|   2017|      11|    13|                 0|                0|                      0|\n",
            "|         25| 544770|  7848|    1171|         3981|     US|   2017|      11|    14|   2017|      11|    12|                 0|                0|                      0|\n",
            "|         15| 207532|  7473|     246|         2120|     US|   2017|      11|    14|   2017|      11|    12|                 0|                0|                      0|\n",
            "|         28|  75752|  9419|      52|         1230|     US|   2017|      11|    14|   2017|      11|    13|                 0|                0|                      0|\n",
            "|         23| 295639|  8011|     638|         1256|     US|   2017|      11|    14|   2017|      11|    12|                 0|                0|                      0|\n",
            "|         27|  78044|  5398|      53|          385|     US|   2017|      11|    14|   2017|      11|    13|                 0|                0|                      0|\n",
            "|         28|  97007| 11963|      36|         2211|     US|   2017|      11|    14|   2017|      11|    13|                 0|                0|                      0|\n",
            "|         27| 223871|  8421|     191|         1214|     US|   2017|      11|    14|   2017|      11|    12|                 0|                0|                      0|\n",
            "+-----------+-------+------+--------+-------------+-------+-------+--------+------+-------+--------+------+------------------+-----------------+-----------------------+\n",
            "only showing top 20 rows\n",
            "\n"
          ],
          "name": "stdout"
        }
      ]
    },
    {
      "cell_type": "code",
      "metadata": {
        "id": "WyizS0wXKx6h",
        "colab": {
          "base_uri": "https://localhost:8080/"
        },
        "outputId": "9fa821e1-ea95-4ca3-b8fb-f0acb0d623f3"
      },
      "source": [
        "# final dataframe for US\n",
        "data_copy_US.show(5)"
      ],
      "execution_count": null,
      "outputs": [
        {
          "output_type": "stream",
          "text": [
            "+-----------+-------+------+--------+-------------+-------+-------+--------+------+-------+--------+------+------------------+-----------------+-----------------------+\n",
            "|category_id|  views| likes|dislikes|comment_count|country|tr_year|tr_month|tr_day|pb_year|pb_month|pb_day|comments_disabled1|ratings_disabled1|video_error_or_removed1|\n",
            "+-----------+-------+------+--------+-------------+-------+-------+--------+------+-------+--------+------+------------------+-----------------+-----------------------+\n",
            "|         22| 748374| 57527|    2966|        15954|     US|   2017|      11|    14|   2017|      11|    13|                 0|                0|                      0|\n",
            "|         24|2418783| 97185|    6146|        12703|     US|   2017|      11|    14|   2017|      11|    13|                 0|                0|                      0|\n",
            "|         23|3191434|146033|    5339|         8181|     US|   2017|      11|    14|   2017|      11|    12|                 0|                0|                      0|\n",
            "|         24| 343168| 10172|     666|         2146|     US|   2017|      11|    14|   2017|      11|    13|                 0|                0|                      0|\n",
            "|         24|2095731|132235|    1989|        17518|     US|   2017|      11|    14|   2017|      11|    12|                 0|                0|                      0|\n",
            "+-----------+-------+------+--------+-------------+-------+-------+--------+------+-------+--------+------+------------------+-----------------+-----------------------+\n",
            "only showing top 5 rows\n",
            "\n"
          ],
          "name": "stdout"
        }
      ]
    },
    {
      "cell_type": "code",
      "metadata": {
        "id": "RRWbRX5f3mJ-",
        "colab": {
          "base_uri": "https://localhost:8080/"
        },
        "outputId": "d59d547b-bef8-43b3-ca6a-11f22f901d9e"
      },
      "source": [
        "# shape of that dataframe\n",
        "print((data_copy_US.count(), len(data_copy_US.columns)))"
      ],
      "execution_count": null,
      "outputs": [
        {
          "output_type": "stream",
          "text": [
            "(40230, 15)\n"
          ],
          "name": "stdout"
        }
      ]
    },
    {
      "cell_type": "code",
      "metadata": {
        "id": "8YSnwIUlx1Go",
        "colab": {
          "base_uri": "https://localhost:8080/"
        },
        "outputId": "31a2cff3-d67f-4911-b608-98bb3eff45a6"
      },
      "source": [
        "# checking whether the data contains null or not\n",
        "\n",
        "\n",
        "print(data_copy_US.where(col(\"likes\").isNull()).count())\n",
        "print(data_copy_US.where(col(\"dislikes\").isNull()).count())\n",
        "print(data_copy_US.where(col(\"comment_count\").isNull()).count())\n",
        "print(data_copy_US.where(col(\"views\").isNull()).count())"
      ],
      "execution_count": null,
      "outputs": [
        {
          "output_type": "stream",
          "text": [
            "0\n",
            "0\n",
            "0\n",
            "0\n"
          ],
          "name": "stdout"
        }
      ]
    },
    {
      "cell_type": "code",
      "metadata": {
        "id": "5SzAtkOYMFwQ"
      },
      "source": [
        "# creating new dataframe called features to train the model\n",
        "\n",
        "\n",
        "features_data_US = data_copy_US.select(col('views'), col('likes'), col('dislikes'), col('comment_count'))"
      ],
      "execution_count": null,
      "outputs": []
    },
    {
      "cell_type": "code",
      "metadata": {
        "id": "D1z0zygVnEfV",
        "colab": {
          "base_uri": "https://localhost:8080/"
        },
        "outputId": "7728ce2b-a39f-484c-eb06-d6d766dbca39"
      },
      "source": [
        "features_data_US.show(5)"
      ],
      "execution_count": null,
      "outputs": [
        {
          "output_type": "stream",
          "text": [
            "+-------+------+--------+-------------+\n",
            "|  views| likes|dislikes|comment_count|\n",
            "+-------+------+--------+-------------+\n",
            "| 748374| 57527|    2966|        15954|\n",
            "|2418783| 97185|    6146|        12703|\n",
            "|3191434|146033|    5339|         8181|\n",
            "| 343168| 10172|     666|         2146|\n",
            "|2095731|132235|    1989|        17518|\n",
            "+-------+------+--------+-------------+\n",
            "only showing top 5 rows\n",
            "\n"
          ],
          "name": "stdout"
        }
      ]
    },
    {
      "cell_type": "code",
      "metadata": {
        "id": "GpZXnmBjUpxb",
        "colab": {
          "base_uri": "https://localhost:8080/"
        },
        "outputId": "44c8d5c9-ada3-4abc-c5ca-f7c188e1586e"
      },
      "source": [
        "required_features = ['views',\n",
        " 'dislikes',\n",
        " 'comment_count']\n",
        "                   \n",
        "from pyspark.ml.feature import VectorAssembler\n",
        "\n",
        "assembler = VectorAssembler(inputCols=required_features, outputCol='features')\n",
        "transformed_data = assembler.transform(features_data_US)\n",
        "transformed_data = transformed_data.select(['features', 'likes'])\n",
        "transformed_data.show(5)"
      ],
      "execution_count": null,
      "outputs": [
        {
          "output_type": "stream",
          "text": [
            "+--------------------+------+\n",
            "|            features| likes|\n",
            "+--------------------+------+\n",
            "|[748374.0,2966.0,...| 57527|\n",
            "|[2418783.0,6146.0...| 97185|\n",
            "|[3191434.0,5339.0...|146033|\n",
            "|[343168.0,666.0,2...| 10172|\n",
            "|[2095731.0,1989.0...|132235|\n",
            "+--------------------+------+\n",
            "only showing top 5 rows\n",
            "\n"
          ],
          "name": "stdout"
        }
      ]
    },
    {
      "cell_type": "markdown",
      "metadata": {
        "id": "QN_46yldQPDT"
      },
      "source": [
        "####splitting into train and test"
      ]
    },
    {
      "cell_type": "code",
      "metadata": {
        "id": "pDpaN0GjqDjx"
      },
      "source": [
        "train, test = transformed_data.randomSplit([0.7, 0.3],seed = 7)"
      ],
      "execution_count": null,
      "outputs": []
    },
    {
      "cell_type": "code",
      "metadata": {
        "id": "DUuMNXSYUMsR",
        "colab": {
          "base_uri": "https://localhost:8080/"
        },
        "outputId": "d340efc6-341a-4150-dcdc-d070b5cf4032"
      },
      "source": [
        "train.describe().show()"
      ],
      "execution_count": null,
      "outputs": [
        {
          "output_type": "stream",
          "text": [
            "+-------+-----------------+\n",
            "|summary|            likes|\n",
            "+-------+-----------------+\n",
            "|  count|            28256|\n",
            "|   mean|75275.25360985278|\n",
            "| stddev|225883.8731095314|\n",
            "|    min|                0|\n",
            "|    max|          5613827|\n",
            "+-------+-----------------+\n",
            "\n"
          ],
          "name": "stdout"
        }
      ]
    },
    {
      "cell_type": "code",
      "metadata": {
        "id": "7AeCnlxX4YHi",
        "colab": {
          "base_uri": "https://localhost:8080/"
        },
        "outputId": "ca3fc9c1-2bc8-415b-b888-257620c4dbf1"
      },
      "source": [
        "test.describe().show()"
      ],
      "execution_count": null,
      "outputs": [
        {
          "output_type": "stream",
          "text": [
            "+-------+------------------+\n",
            "|summary|             likes|\n",
            "+-------+------------------+\n",
            "|  count|             11974|\n",
            "|   mean| 75118.84842158009|\n",
            "| stddev|241868.95607480116|\n",
            "|    min|                 1|\n",
            "|    max|           5530568|\n",
            "+-------+------------------+\n",
            "\n"
          ],
          "name": "stdout"
        }
      ]
    },
    {
      "cell_type": "markdown",
      "metadata": {
        "id": "2QBib8-B0uUg"
      },
      "source": [
        "### Linear Regression"
      ]
    },
    {
      "cell_type": "code",
      "metadata": {
        "id": "gKWIYSOYOEwJ",
        "colab": {
          "base_uri": "https://localhost:8080/"
        },
        "outputId": "48dc6959-f041-4ded-eecd-7fd67b5b82f2"
      },
      "source": [
        "from pyspark.ml.regression import LinearRegression\n",
        "lr = LinearRegression(featuresCol ='features', labelCol ='likes')\n",
        "lr_model = lr.fit(train)\n",
        "train_results = lr_model.evaluate(train)\n",
        "print('Train Accuracy :', train_results.r2)\n",
        "  \n",
        " \n",
        "# evaluate model on test_data\n",
        "test_results = lr_model.evaluate(test)\n",
        "print('Test Accuracy :', test_results.r2)\n",
        "  \n",
        "    \n",
        "# create unlabelled data from test_data\n",
        "# test_data.show()\n",
        "unlabeled_data = test.select('features')\n",
        "unlabeled_data.show(5)"
      ],
      "execution_count": null,
      "outputs": [
        {
          "output_type": "stream",
          "text": [
            "Train Accuracy : 0.878051859455062\n",
            "Test Accuracy : 0.9085855676505346\n",
            "+-----------------+\n",
            "|         features|\n",
            "+-----------------+\n",
            "|  [773.0,0.0,0.0]|\n",
            "|  [999.0,1.0,1.0]|\n",
            "|[1095.0,2.0,13.0]|\n",
            "| [1204.0,0.0,2.0]|\n",
            "| [1387.0,1.0,1.0]|\n",
            "+-----------------+\n",
            "only showing top 5 rows\n",
            "\n"
          ],
          "name": "stdout"
        }
      ]
    },
    {
      "cell_type": "code",
      "metadata": {
        "id": "06-2tskeOTo5",
        "colab": {
          "base_uri": "https://localhost:8080/"
        },
        "outputId": "180fbdbc-b0d0-4d49-dfc4-f5bcce4f5b16"
      },
      "source": [
        "predictions = lr_model.transform(unlabeled_data)\n",
        "predictions.show(5)"
      ],
      "execution_count": null,
      "outputs": [
        {
          "output_type": "stream",
          "text": [
            "+-----------------+------------------+\n",
            "|         features|        prediction|\n",
            "+-----------------+------------------+\n",
            "|  [773.0,0.0,0.0]| 6650.452640013833|\n",
            "|  [999.0,1.0,1.0]| 6656.313729827621|\n",
            "|[1095.0,2.0,13.0]| 6702.245803139771|\n",
            "| [1204.0,0.0,2.0]|6666.1031878607955|\n",
            "| [1387.0,1.0,1.0]| 6663.452593058196|\n",
            "+-----------------+------------------+\n",
            "only showing top 5 rows\n",
            "\n"
          ],
          "name": "stdout"
        }
      ]
    },
    {
      "cell_type": "markdown",
      "metadata": {
        "id": "o3clRMWT-Wy6"
      },
      "source": [
        "### Regression on entire data"
      ]
    },
    {
      "cell_type": "code",
      "metadata": {
        "id": "SLuV7m0h-vPT",
        "colab": {
          "base_uri": "https://localhost:8080/"
        },
        "outputId": "8be9aaf6-8d91-4ebc-d6be-89c09b2fb32d"
      },
      "source": [
        "# creating new dataframe called features to train the model\n",
        "\n",
        "features_data = data_copy.select(col('views'), col('likes'), col('dislikes'), col('comment_count'))\n",
        "features_data.show(5)"
      ],
      "execution_count": null,
      "outputs": [
        {
          "output_type": "stream",
          "text": [
            "+-------+-----+--------+-------------+\n",
            "|  views|likes|dislikes|comment_count|\n",
            "+-------+-----+--------+-------------+\n",
            "|1096327|33966|     798|          882|\n",
            "| 590101|  735|     904|            0|\n",
            "| 473988| 2011|     243|          149|\n",
            "|1242680|70353|    1624|         2684|\n",
            "| 464015|  492|     293|           66|\n",
            "+-------+-----+--------+-------------+\n",
            "only showing top 5 rows\n",
            "\n"
          ],
          "name": "stdout"
        }
      ]
    },
    {
      "cell_type": "code",
      "metadata": {
        "id": "JBMH7rl1_OxL",
        "colab": {
          "base_uri": "https://localhost:8080/"
        },
        "outputId": "903e4469-c5b6-45e0-d380-088e767ee4b0"
      },
      "source": [
        "required_features = ['views', 'dislikes', 'comment_count']\n",
        "                   \n",
        "from pyspark.ml.feature import VectorAssembler\n",
        "\n",
        "assembler = VectorAssembler(inputCols=required_features, outputCol='features')\n",
        "transformed_data = assembler.transform(features_data)\n",
        "transformed_data = transformed_data.select(['features', 'likes'])\n",
        "transformed_data.show(5)"
      ],
      "execution_count": null,
      "outputs": [
        {
          "output_type": "stream",
          "text": [
            "+--------------------+-----+\n",
            "|            features|likes|\n",
            "+--------------------+-----+\n",
            "|[1096327.0,798.0,...|33966|\n",
            "|[590101.0,904.0,0.0]|  735|\n",
            "|[473988.0,243.0,1...| 2011|\n",
            "|[1242680.0,1624.0...|70353|\n",
            "|[464015.0,293.0,6...|  492|\n",
            "+--------------------+-----+\n",
            "only showing top 5 rows\n",
            "\n"
          ],
          "name": "stdout"
        }
      ]
    },
    {
      "cell_type": "code",
      "metadata": {
        "id": "1lgzHjBaACGN"
      },
      "source": [
        "train, test = transformed_data.randomSplit([0.7, 0.3],seed = 7)"
      ],
      "execution_count": null,
      "outputs": []
    },
    {
      "cell_type": "code",
      "metadata": {
        "id": "T-nmFjD5G7As",
        "colab": {
          "base_uri": "https://localhost:8080/"
        },
        "outputId": "2b743d56-c782-4d9f-9a9e-2b6b18cf7b6b"
      },
      "source": [
        "train.describe().show()"
      ],
      "execution_count": null,
      "outputs": [
        {
          "output_type": "stream",
          "text": [
            "+-------+------------------+\n",
            "|summary|             likes|\n",
            "+-------+------------------+\n",
            "|  count|            110841|\n",
            "|   mean|  69253.5876706273|\n",
            "| stddev|230534.03533562756|\n",
            "|    min|                 0|\n",
            "|    max|           5613827|\n",
            "+-------+------------------+\n",
            "\n"
          ],
          "name": "stdout"
        }
      ]
    },
    {
      "cell_type": "code",
      "metadata": {
        "id": "28xdw-V1GzUq",
        "colab": {
          "base_uri": "https://localhost:8080/"
        },
        "outputId": "fecca49c-b796-4d97-9df0-ba09cbfb5b79"
      },
      "source": [
        "test.describe().show(5)"
      ],
      "execution_count": null,
      "outputs": [
        {
          "output_type": "stream",
          "text": [
            "+-------+------------------+\n",
            "|summary|             likes|\n",
            "+-------+------------------+\n",
            "|  count|             47257|\n",
            "|   mean| 68344.30410309584|\n",
            "| stddev|223603.05374788173|\n",
            "|    min|                 0|\n",
            "|    max|           5595203|\n",
            "+-------+------------------+\n",
            "\n"
          ],
          "name": "stdout"
        }
      ]
    },
    {
      "cell_type": "code",
      "metadata": {
        "id": "K0ij8FnG_fgl",
        "colab": {
          "base_uri": "https://localhost:8080/"
        },
        "outputId": "7f197a1f-0bbe-4a7c-ec9f-faadccbbeb96"
      },
      "source": [
        "from pyspark.ml.regression import LinearRegression\n",
        "lr = LinearRegression(featuresCol ='features', labelCol ='likes')\n",
        "lr_model = lr.fit(train)\n",
        "train_results = lr_model.evaluate(train)\n",
        "print('Train Accuracy :', train_results.r2)\n",
        "  \n",
        "# evaluate model on test_data\n",
        "test_results = lr_model.evaluate(test)\n",
        "print('Test Accuracy :', test_results.r2)\n",
        "\n",
        "# test_results.predictions.show()\n",
        "  \n",
        "# create unlabelled data from test_data\n",
        "unlabeled_data = test.select('features')\n",
        "unlabeled_data.show(5)"
      ],
      "execution_count": null,
      "outputs": [
        {
          "output_type": "stream",
          "text": [
            "Train Accuracy : 0.854856143900019\n",
            "Test Accuracy : 0.858485937669675\n",
            "+---------------+\n",
            "|       features|\n",
            "+---------------+\n",
            "|[773.0,0.0,0.0]|\n",
            "|[920.0,1.0,1.0]|\n",
            "|[937.0,0.0,3.0]|\n",
            "|[972.0,0.0,3.0]|\n",
            "|[983.0,0.0,3.0]|\n",
            "+---------------+\n",
            "only showing top 5 rows\n",
            "\n"
          ],
          "name": "stdout"
        }
      ]
    },
    {
      "cell_type": "code",
      "metadata": {
        "id": "LSmFO7cA_4ME",
        "colab": {
          "base_uri": "https://localhost:8080/"
        },
        "outputId": "6a271565-3cc0-4c2d-cd86-e8237bbfefae"
      },
      "source": [
        "predictions = lr_model.transform(unlabeled_data)\n",
        "predictions.show(5)"
      ],
      "execution_count": null,
      "outputs": [
        {
          "output_type": "stream",
          "text": [
            "+---------------+------------------+\n",
            "|       features|        prediction|\n",
            "+---------------+------------------+\n",
            "|[773.0,0.0,0.0]|10769.639089654289|\n",
            "|[920.0,1.0,1.0]|10774.015568556737|\n",
            "|[937.0,0.0,3.0]|10785.767379550884|\n",
            "|[972.0,0.0,3.0]|  10786.1884806723|\n",
            "|[983.0,0.0,3.0]|10786.320826739031|\n",
            "+---------------+------------------+\n",
            "only showing top 5 rows\n",
            "\n"
          ],
          "name": "stdout"
        }
      ]
    },
    {
      "cell_type": "markdown",
      "metadata": {
        "id": "qnvGpbVROuCi"
      },
      "source": [
        "###Britain Regression"
      ]
    },
    {
      "cell_type": "code",
      "metadata": {
        "id": "tmrXHjsxANKV",
        "colab": {
          "base_uri": "https://localhost:8080/"
        },
        "outputId": "7996005e-b1e0-402d-b218-c032801c7f37"
      },
      "source": [
        "# filtering US data and model on it\n",
        "data_copy_Britain = data_copy.filter((col(\"country\") == 'Britain'))\n",
        "data_copy_Britain.show()"
      ],
      "execution_count": null,
      "outputs": [
        {
          "output_type": "stream",
          "text": [
            "+-----------+--------+-------+--------+-------------+-------+-------+--------+------+-------+--------+------+------------------+-----------------+-----------------------+\n",
            "|category_id|   views|  likes|dislikes|comment_count|country|tr_year|tr_month|tr_day|pb_year|pb_month|pb_day|comments_disabled1|ratings_disabled1|video_error_or_removed1|\n",
            "+-----------+--------+-------+--------+-------------+-------+-------+--------+------+-------+--------+------+------------------+-----------------+-----------------------+\n",
            "|         26| 7224515|  55681|   10247|         9479|Britain|   2017|      11|    14|   2017|      11|    10|                 0|                0|                      0|\n",
            "|         24| 1053632|  25561|    2294|         2757|Britain|   2017|      11|    14|   2017|      11|    12|                 0|                0|                      0|\n",
            "|         10|17158579| 787420|   43420|       125882|Britain|   2017|      11|    14|   2017|      11|    10|                 0|                0|                      0|\n",
            "|         17|   27833|    193|      12|           37|Britain|   2017|      11|    14|   2017|      11|    13|                 0|                0|                      0|\n",
            "|         25|    9815|     30|       2|           30|Britain|   2017|      11|    14|   2017|      11|    13|                 0|                0|                      0|\n",
            "|         24| 1182775|  52708|    1431|         2333|Britain|   2017|      11|    14|   2017|      11|    11|                 0|                0|                      0|\n",
            "|         10|33523622|1634124|   21082|        85067|Britain|   2017|      11|    14|   2017|      11|     9|                 0|                0|                      0|\n",
            "|         22| 1164201|  57309|     749|          624|Britain|   2017|      11|    14|   2017|      11|    10|                 0|                0|                      0|\n",
            "|         10|  154494|   2163|     147|          211|Britain|   2017|      11|    14|   2017|      11|    10|                 0|                0|                      0|\n",
            "|         10| 9548677| 190084|   15015|        11473|Britain|   2017|      11|    14|   2017|      11|    10|                 0|                0|                      0|\n",
            "|         17|  306724|   9591|     266|          448|Britain|   2017|      11|    14|   2017|      11|    11|                 0|                0|                      0|\n",
            "|         25|  254314|   1746|     125|          298|Britain|   2017|      11|    14|   2017|      11|    10|                 0|                0|                      0|\n",
            "|         10|  946859|  37986|     816|         2006|Britain|   2017|      11|    14|   2017|      11|    10|                 0|                0|                      0|\n",
            "|         26|  300617|   8133|    2693|         2911|Britain|   2017|      11|    14|   2017|      11|    10|                 0|                0|                      0|\n",
            "|         26| 2063667|  98804|   11682|        11443|Britain|   2017|      11|    14|   2017|      11|     9|                 0|                0|                      0|\n",
            "|         24|  728547|  12553|    2146|         1143|Britain|   2017|      11|    14|   2017|      11|    10|                 0|                0|                      0|\n",
            "|         10|  893462|  22326|     833|          943|Britain|   2017|      11|    14|   2017|      11|     9|                 0|                0|                      0|\n",
            "|         10| 5476738| 286269|    4083|        12254|Britain|   2017|      11|    14|   2017|      11|    10|                 0|                0|                      0|\n",
            "|         23| 3371669| 202676|    3394|        20086|Britain|   2017|      11|    14|   2017|      11|     9|                 0|                0|                      0|\n",
            "|         24| 2237404|  72593|    1830|         3501|Britain|   2017|      11|    14|   2017|      11|    10|                 0|                0|                      0|\n",
            "+-----------+--------+-------+--------+-------------+-------+-------+--------+------+-------+--------+------+------------------+-----------------+-----------------------+\n",
            "only showing top 20 rows\n",
            "\n"
          ],
          "name": "stdout"
        }
      ]
    },
    {
      "cell_type": "code",
      "metadata": {
        "id": "kzINucmbO6Ru"
      },
      "source": [
        "# get the rows where comments are not disabled, so comment count will not be 0\n",
        "data_copy_Britain = data_copy_Britain.filter((col(\"comments_disabled1\") != 1))\n"
      ],
      "execution_count": null,
      "outputs": []
    },
    {
      "cell_type": "code",
      "metadata": {
        "id": "Y5N4f58QPfo2"
      },
      "source": [
        "# get the rows where ratings are not disabled, so ratings will not be 0\n",
        "data_copy_Britain = data_copy_Britain.filter((col(\"ratings_disabled1\") != 1))\n"
      ],
      "execution_count": null,
      "outputs": []
    },
    {
      "cell_type": "code",
      "metadata": {
        "id": "c0zJPggQPphr"
      },
      "source": [
        "# get the rows where video is not removed or has no error\n",
        "data_copy_Britain = data_copy_Britain.filter((col(\"video_error_or_removed1\") != 1))\n"
      ],
      "execution_count": null,
      "outputs": []
    },
    {
      "cell_type": "code",
      "metadata": {
        "id": "rWjiWhQnP0h6",
        "colab": {
          "base_uri": "https://localhost:8080/"
        },
        "outputId": "8408f06f-e2cf-4e6e-b489-e98afbc9cab6"
      },
      "source": [
        "# creating new dataframe called features to train the model\n",
        "\n",
        "features_data_Britain = data_copy_Britain.select(col('views'), col('likes'), col('dislikes'), col('comment_count'))\n",
        "features_data_Britain.show(5)"
      ],
      "execution_count": null,
      "outputs": [
        {
          "output_type": "stream",
          "text": [
            "+--------+------+--------+-------------+\n",
            "|   views| likes|dislikes|comment_count|\n",
            "+--------+------+--------+-------------+\n",
            "| 7224515| 55681|   10247|         9479|\n",
            "| 1053632| 25561|    2294|         2757|\n",
            "|17158579|787420|   43420|       125882|\n",
            "|   27833|   193|      12|           37|\n",
            "|    9815|    30|       2|           30|\n",
            "+--------+------+--------+-------------+\n",
            "only showing top 5 rows\n",
            "\n"
          ],
          "name": "stdout"
        }
      ]
    },
    {
      "cell_type": "code",
      "metadata": {
        "id": "ryNqG6uDQBSj",
        "colab": {
          "base_uri": "https://localhost:8080/"
        },
        "outputId": "e8ecd409-1a38-4139-b022-c4f6ae51efcf"
      },
      "source": [
        "features_data_Britain.describe().show()"
      ],
      "execution_count": null,
      "outputs": [
        {
          "output_type": "stream",
          "text": [
            "+-------+--------------------+------------------+------------------+------------------+\n",
            "|summary|               views|             likes|          dislikes|     comment_count|\n",
            "+-------+--------------------+------------------+------------------+------------------+\n",
            "|  count|               38116|             38116|             38116|             38116|\n",
            "|   mean|   5926423.644794837|136518.24916045755| 7658.098515059292|13328.725574561864|\n",
            "| stddev|1.9105739433874235E7|352994.12053208664|51431.758287840086|51148.659441043106|\n",
            "|    min|                 851|                 2|                 0|                 0|\n",
            "|    max|           424538912|           5613827|           1944971|           1626501|\n",
            "+-------+--------------------+------------------+------------------+------------------+\n",
            "\n"
          ],
          "name": "stdout"
        }
      ]
    },
    {
      "cell_type": "code",
      "metadata": {
        "id": "Hwm7nBJ1Q3m3",
        "colab": {
          "base_uri": "https://localhost:8080/"
        },
        "outputId": "9330bc41-2a50-452a-fd33-7dab38e378eb"
      },
      "source": [
        "required_features = ['views',\n",
        " 'dislikes',\n",
        " 'comment_count']\n",
        "                   \n",
        "from pyspark.ml.feature import VectorAssembler\n",
        "\n",
        "assembler = VectorAssembler(inputCols=required_features, outputCol='features')\n",
        "transformed_data = assembler.transform(features_data_Britain)\n",
        "transformed_data = transformed_data.select(['features', 'likes'])\n",
        "transformed_data.show(5)"
      ],
      "execution_count": null,
      "outputs": [
        {
          "output_type": "stream",
          "text": [
            "+--------------------+------+\n",
            "|            features| likes|\n",
            "+--------------------+------+\n",
            "|[7224515.0,10247....| 55681|\n",
            "|[1053632.0,2294.0...| 25561|\n",
            "|[1.7158579E7,4342...|787420|\n",
            "| [27833.0,12.0,37.0]|   193|\n",
            "|   [9815.0,2.0,30.0]|    30|\n",
            "+--------------------+------+\n",
            "only showing top 5 rows\n",
            "\n"
          ],
          "name": "stdout"
        }
      ]
    },
    {
      "cell_type": "code",
      "metadata": {
        "id": "gJ0ymdD9RBY0"
      },
      "source": [
        "train, test = transformed_data.randomSplit([0.7, 0.3],seed = 7)"
      ],
      "execution_count": null,
      "outputs": []
    },
    {
      "cell_type": "code",
      "metadata": {
        "id": "UsdvHiFTRNPp",
        "colab": {
          "base_uri": "https://localhost:8080/"
        },
        "outputId": "b26037cd-aa92-4637-d2b1-57663328d3ec"
      },
      "source": [
        "from pyspark.ml.regression import LinearRegression\n",
        "lr = LinearRegression(featuresCol ='features', labelCol ='likes')\n",
        "lr_model = lr.fit(train)\n",
        "train_results = lr_model.evaluate(train)\n",
        "print('Train Accuracy :', train_results.r2)\n",
        "  \n",
        "  \n",
        "# evaluate model on test_data\n",
        "test_results = lr_model.evaluate(test)\n",
        "print('Test Accuracy :', test_results.r2)\n",
        "  \n",
        "  \n",
        "# create unlabelled data from test_data\n",
        "# test_data.show()\n",
        "unlabeled_data = test.select('features')\n",
        "unlabeled_data.show(5)"
      ],
      "execution_count": null,
      "outputs": [
        {
          "output_type": "stream",
          "text": [
            "Train Accuracy : 0.8726133425245184\n",
            "Test Accuracy : 0.8510726301296094\n",
            "+----------------+\n",
            "|        features|\n",
            "+----------------+\n",
            "| [922.0,0.0,3.0]|\n",
            "| [983.0,0.0,3.0]|\n",
            "|[1184.0,0.0,1.0]|\n",
            "|[1208.0,0.0,1.0]|\n",
            "|[1218.0,0.0,1.0]|\n",
            "+----------------+\n",
            "only showing top 5 rows\n",
            "\n"
          ],
          "name": "stdout"
        }
      ]
    },
    {
      "cell_type": "code",
      "metadata": {
        "id": "NTQmqDhfRRBJ",
        "colab": {
          "base_uri": "https://localhost:8080/"
        },
        "outputId": "df64de9d-7166-457f-97af-a8fc1db209b9"
      },
      "source": [
        "predictions = lr_model.transform(unlabeled_data)\n",
        "predictions.show(5)"
      ],
      "execution_count": null,
      "outputs": [
        {
          "output_type": "stream",
          "text": [
            "+----------------+------------------+\n",
            "|        features|        prediction|\n",
            "+----------------+------------------+\n",
            "| [922.0,0.0,3.0]|21748.354124225807|\n",
            "| [983.0,0.0,3.0]|21749.019453079356|\n",
            "|[1184.0,0.0,1.0]|21740.858527734003|\n",
            "|[1208.0,0.0,1.0]| 21741.12029646327|\n",
            "|[1218.0,0.0,1.0]| 21741.22936676713|\n",
            "+----------------+------------------+\n",
            "only showing top 5 rows\n",
            "\n"
          ],
          "name": "stdout"
        }
      ]
    }
  ]
}